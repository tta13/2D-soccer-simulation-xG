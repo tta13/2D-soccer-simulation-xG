{
  "cells": [
    {
      "cell_type": "markdown",
      "metadata": {
        "id": "lKMDHMLWV4nm"
      },
      "source": [
        "# 2D Soccer Simulation League Expected Goals Model"
      ]
    },
    {
      "cell_type": "code",
      "execution_count": 1,
      "metadata": {
        "id": "DvxpSL6fVzA1"
      },
      "outputs": [],
      "source": [
        "import pandas as pd\n",
        "import numpy as np\n",
        "import matplotlib.pyplot as plt\n",
        "import os"
      ]
    },
    {
      "cell_type": "markdown",
      "metadata": {
        "id": "2TD3TrIXW1Du"
      },
      "source": [
        "## Loading database\n",
        "In this section, we load the database generated files to use in the model"
      ]
    },
    {
      "cell_type": "code",
      "execution_count": null,
      "metadata": {
        "id": "6hdwdXG3WaUq"
      },
      "outputs": [],
      "source": [
        "dir = os.getcwd()\n",
        "with open(os.path.join(dir, 'database/data/database_2019+2021.csv')) as f:\n",
        "    data = pd.read_csv(f)"
      ]
    },
    {
      "cell_type": "code",
      "execution_count": 4,
      "metadata": {
        "colab": {
          "base_uri": "https://localhost:8080/",
          "height": 206
        },
        "id": "rqwrHTqIW2UN",
        "outputId": "e142b996-fcd8-47c1-b53a-70524923412b"
      },
      "outputs": [
        {
          "output_type": "execute_result",
          "data": {
            "text/plain": [
              "            x        y   distance     angle  players_in_between  goal\n",
              "5984  17.1540 -22.4286  41.861460  0.283130                   2     0\n",
              "5985  33.8547  -9.0582  20.729163  0.601883                   9     0\n",
              "5986   6.8481 -30.9291  55.142590  0.210771                   2     0\n",
              "5987   2.2565  -4.2122  50.419757  0.275377                   2     0\n",
              "5988   5.0417   3.4721  47.585142  0.291790                   3     0"
            ],
            "text/html": [
              "\n",
              "  <div id=\"df-3c8b41a5-6142-45c6-8e1c-26fee182aac1\">\n",
              "    <div class=\"colab-df-container\">\n",
              "      <div>\n",
              "<style scoped>\n",
              "    .dataframe tbody tr th:only-of-type {\n",
              "        vertical-align: middle;\n",
              "    }\n",
              "\n",
              "    .dataframe tbody tr th {\n",
              "        vertical-align: top;\n",
              "    }\n",
              "\n",
              "    .dataframe thead th {\n",
              "        text-align: right;\n",
              "    }\n",
              "</style>\n",
              "<table border=\"1\" class=\"dataframe\">\n",
              "  <thead>\n",
              "    <tr style=\"text-align: right;\">\n",
              "      <th></th>\n",
              "      <th>x</th>\n",
              "      <th>y</th>\n",
              "      <th>distance</th>\n",
              "      <th>angle</th>\n",
              "      <th>players_in_between</th>\n",
              "      <th>goal</th>\n",
              "    </tr>\n",
              "  </thead>\n",
              "  <tbody>\n",
              "    <tr>\n",
              "      <th>5984</th>\n",
              "      <td>17.1540</td>\n",
              "      <td>-22.4286</td>\n",
              "      <td>41.861460</td>\n",
              "      <td>0.283130</td>\n",
              "      <td>2</td>\n",
              "      <td>0</td>\n",
              "    </tr>\n",
              "    <tr>\n",
              "      <th>5985</th>\n",
              "      <td>33.8547</td>\n",
              "      <td>-9.0582</td>\n",
              "      <td>20.729163</td>\n",
              "      <td>0.601883</td>\n",
              "      <td>9</td>\n",
              "      <td>0</td>\n",
              "    </tr>\n",
              "    <tr>\n",
              "      <th>5986</th>\n",
              "      <td>6.8481</td>\n",
              "      <td>-30.9291</td>\n",
              "      <td>55.142590</td>\n",
              "      <td>0.210771</td>\n",
              "      <td>2</td>\n",
              "      <td>0</td>\n",
              "    </tr>\n",
              "    <tr>\n",
              "      <th>5987</th>\n",
              "      <td>2.2565</td>\n",
              "      <td>-4.2122</td>\n",
              "      <td>50.419757</td>\n",
              "      <td>0.275377</td>\n",
              "      <td>2</td>\n",
              "      <td>0</td>\n",
              "    </tr>\n",
              "    <tr>\n",
              "      <th>5988</th>\n",
              "      <td>5.0417</td>\n",
              "      <td>3.4721</td>\n",
              "      <td>47.585142</td>\n",
              "      <td>0.291790</td>\n",
              "      <td>3</td>\n",
              "      <td>0</td>\n",
              "    </tr>\n",
              "  </tbody>\n",
              "</table>\n",
              "</div>\n",
              "      <button class=\"colab-df-convert\" onclick=\"convertToInteractive('df-3c8b41a5-6142-45c6-8e1c-26fee182aac1')\"\n",
              "              title=\"Convert this dataframe to an interactive table.\"\n",
              "              style=\"display:none;\">\n",
              "        \n",
              "  <svg xmlns=\"http://www.w3.org/2000/svg\" height=\"24px\"viewBox=\"0 0 24 24\"\n",
              "       width=\"24px\">\n",
              "    <path d=\"M0 0h24v24H0V0z\" fill=\"none\"/>\n",
              "    <path d=\"M18.56 5.44l.94 2.06.94-2.06 2.06-.94-2.06-.94-.94-2.06-.94 2.06-2.06.94zm-11 1L8.5 8.5l.94-2.06 2.06-.94-2.06-.94L8.5 2.5l-.94 2.06-2.06.94zm10 10l.94 2.06.94-2.06 2.06-.94-2.06-.94-.94-2.06-.94 2.06-2.06.94z\"/><path d=\"M17.41 7.96l-1.37-1.37c-.4-.4-.92-.59-1.43-.59-.52 0-1.04.2-1.43.59L10.3 9.45l-7.72 7.72c-.78.78-.78 2.05 0 2.83L4 21.41c.39.39.9.59 1.41.59.51 0 1.02-.2 1.41-.59l7.78-7.78 2.81-2.81c.8-.78.8-2.07 0-2.86zM5.41 20L4 18.59l7.72-7.72 1.47 1.35L5.41 20z\"/>\n",
              "  </svg>\n",
              "      </button>\n",
              "      \n",
              "  <style>\n",
              "    .colab-df-container {\n",
              "      display:flex;\n",
              "      flex-wrap:wrap;\n",
              "      gap: 12px;\n",
              "    }\n",
              "\n",
              "    .colab-df-convert {\n",
              "      background-color: #E8F0FE;\n",
              "      border: none;\n",
              "      border-radius: 50%;\n",
              "      cursor: pointer;\n",
              "      display: none;\n",
              "      fill: #1967D2;\n",
              "      height: 32px;\n",
              "      padding: 0 0 0 0;\n",
              "      width: 32px;\n",
              "    }\n",
              "\n",
              "    .colab-df-convert:hover {\n",
              "      background-color: #E2EBFA;\n",
              "      box-shadow: 0px 1px 2px rgba(60, 64, 67, 0.3), 0px 1px 3px 1px rgba(60, 64, 67, 0.15);\n",
              "      fill: #174EA6;\n",
              "    }\n",
              "\n",
              "    [theme=dark] .colab-df-convert {\n",
              "      background-color: #3B4455;\n",
              "      fill: #D2E3FC;\n",
              "    }\n",
              "\n",
              "    [theme=dark] .colab-df-convert:hover {\n",
              "      background-color: #434B5C;\n",
              "      box-shadow: 0px 1px 3px 1px rgba(0, 0, 0, 0.15);\n",
              "      filter: drop-shadow(0px 1px 2px rgba(0, 0, 0, 0.3));\n",
              "      fill: #FFFFFF;\n",
              "    }\n",
              "  </style>\n",
              "\n",
              "      <script>\n",
              "        const buttonEl =\n",
              "          document.querySelector('#df-3c8b41a5-6142-45c6-8e1c-26fee182aac1 button.colab-df-convert');\n",
              "        buttonEl.style.display =\n",
              "          google.colab.kernel.accessAllowed ? 'block' : 'none';\n",
              "\n",
              "        async function convertToInteractive(key) {\n",
              "          const element = document.querySelector('#df-3c8b41a5-6142-45c6-8e1c-26fee182aac1');\n",
              "          const dataTable =\n",
              "            await google.colab.kernel.invokeFunction('convertToInteractive',\n",
              "                                                     [key], {});\n",
              "          if (!dataTable) return;\n",
              "\n",
              "          const docLinkHtml = 'Like what you see? Visit the ' +\n",
              "            '<a target=\"_blank\" href=https://colab.research.google.com/notebooks/data_table.ipynb>data table notebook</a>'\n",
              "            + ' to learn more about interactive tables.';\n",
              "          element.innerHTML = '';\n",
              "          dataTable['output_type'] = 'display_data';\n",
              "          await google.colab.output.renderOutput(dataTable, element);\n",
              "          const docLink = document.createElement('div');\n",
              "          docLink.innerHTML = docLinkHtml;\n",
              "          element.appendChild(docLink);\n",
              "        }\n",
              "      </script>\n",
              "    </div>\n",
              "  </div>\n",
              "  "
            ]
          },
          "metadata": {},
          "execution_count": 4
        }
      ],
      "source": [
        "data.tail()"
      ]
    },
    {
      "cell_type": "markdown",
      "source": [
        "Treating the data"
      ],
      "metadata": {
        "id": "79V3MmV_S5ir"
      }
    },
    {
      "cell_type": "code",
      "execution_count": 17,
      "metadata": {
        "id": "LxY4N4ZNXDvA"
      },
      "outputs": [],
      "source": [
        "shot_data = data.copy()\n",
        "for i,shot in shot_data.iterrows():\n",
        "  shot_data.at[i,'x']=52.5-shot['x']\n",
        "  shot_data.at[i,'y']=34+shot['y']"
      ]
    },
    {
      "cell_type": "code",
      "execution_count": 18,
      "metadata": {
        "colab": {
          "base_uri": "https://localhost:8080/",
          "height": 206
        },
        "id": "h2GgCh_kaSZN",
        "outputId": "2c00dba1-0ef5-4d5d-a653-ed440962a86d"
      },
      "outputs": [
        {
          "output_type": "execute_result",
          "data": {
            "text/plain": [
              "            x        y   distance     angle  players_in_between  goal\n",
              "5984  35.3460  11.5714  41.861460  0.283130                   2     0\n",
              "5985  18.6453  24.9418  20.729163  0.601883                   9     0\n",
              "5986  45.6519   3.0709  55.142590  0.210771                   2     0\n",
              "5987  50.2435  29.7878  50.419757  0.275377                   2     0\n",
              "5988  47.4583  37.4721  47.585142  0.291790                   3     0"
            ],
            "text/html": [
              "\n",
              "  <div id=\"df-adb072ad-ebb1-40c0-a80a-1288f15e4512\">\n",
              "    <div class=\"colab-df-container\">\n",
              "      <div>\n",
              "<style scoped>\n",
              "    .dataframe tbody tr th:only-of-type {\n",
              "        vertical-align: middle;\n",
              "    }\n",
              "\n",
              "    .dataframe tbody tr th {\n",
              "        vertical-align: top;\n",
              "    }\n",
              "\n",
              "    .dataframe thead th {\n",
              "        text-align: right;\n",
              "    }\n",
              "</style>\n",
              "<table border=\"1\" class=\"dataframe\">\n",
              "  <thead>\n",
              "    <tr style=\"text-align: right;\">\n",
              "      <th></th>\n",
              "      <th>x</th>\n",
              "      <th>y</th>\n",
              "      <th>distance</th>\n",
              "      <th>angle</th>\n",
              "      <th>players_in_between</th>\n",
              "      <th>goal</th>\n",
              "    </tr>\n",
              "  </thead>\n",
              "  <tbody>\n",
              "    <tr>\n",
              "      <th>5984</th>\n",
              "      <td>35.3460</td>\n",
              "      <td>11.5714</td>\n",
              "      <td>41.861460</td>\n",
              "      <td>0.283130</td>\n",
              "      <td>2</td>\n",
              "      <td>0</td>\n",
              "    </tr>\n",
              "    <tr>\n",
              "      <th>5985</th>\n",
              "      <td>18.6453</td>\n",
              "      <td>24.9418</td>\n",
              "      <td>20.729163</td>\n",
              "      <td>0.601883</td>\n",
              "      <td>9</td>\n",
              "      <td>0</td>\n",
              "    </tr>\n",
              "    <tr>\n",
              "      <th>5986</th>\n",
              "      <td>45.6519</td>\n",
              "      <td>3.0709</td>\n",
              "      <td>55.142590</td>\n",
              "      <td>0.210771</td>\n",
              "      <td>2</td>\n",
              "      <td>0</td>\n",
              "    </tr>\n",
              "    <tr>\n",
              "      <th>5987</th>\n",
              "      <td>50.2435</td>\n",
              "      <td>29.7878</td>\n",
              "      <td>50.419757</td>\n",
              "      <td>0.275377</td>\n",
              "      <td>2</td>\n",
              "      <td>0</td>\n",
              "    </tr>\n",
              "    <tr>\n",
              "      <th>5988</th>\n",
              "      <td>47.4583</td>\n",
              "      <td>37.4721</td>\n",
              "      <td>47.585142</td>\n",
              "      <td>0.291790</td>\n",
              "      <td>3</td>\n",
              "      <td>0</td>\n",
              "    </tr>\n",
              "  </tbody>\n",
              "</table>\n",
              "</div>\n",
              "      <button class=\"colab-df-convert\" onclick=\"convertToInteractive('df-adb072ad-ebb1-40c0-a80a-1288f15e4512')\"\n",
              "              title=\"Convert this dataframe to an interactive table.\"\n",
              "              style=\"display:none;\">\n",
              "        \n",
              "  <svg xmlns=\"http://www.w3.org/2000/svg\" height=\"24px\"viewBox=\"0 0 24 24\"\n",
              "       width=\"24px\">\n",
              "    <path d=\"M0 0h24v24H0V0z\" fill=\"none\"/>\n",
              "    <path d=\"M18.56 5.44l.94 2.06.94-2.06 2.06-.94-2.06-.94-.94-2.06-.94 2.06-2.06.94zm-11 1L8.5 8.5l.94-2.06 2.06-.94-2.06-.94L8.5 2.5l-.94 2.06-2.06.94zm10 10l.94 2.06.94-2.06 2.06-.94-2.06-.94-.94-2.06-.94 2.06-2.06.94z\"/><path d=\"M17.41 7.96l-1.37-1.37c-.4-.4-.92-.59-1.43-.59-.52 0-1.04.2-1.43.59L10.3 9.45l-7.72 7.72c-.78.78-.78 2.05 0 2.83L4 21.41c.39.39.9.59 1.41.59.51 0 1.02-.2 1.41-.59l7.78-7.78 2.81-2.81c.8-.78.8-2.07 0-2.86zM5.41 20L4 18.59l7.72-7.72 1.47 1.35L5.41 20z\"/>\n",
              "  </svg>\n",
              "      </button>\n",
              "      \n",
              "  <style>\n",
              "    .colab-df-container {\n",
              "      display:flex;\n",
              "      flex-wrap:wrap;\n",
              "      gap: 12px;\n",
              "    }\n",
              "\n",
              "    .colab-df-convert {\n",
              "      background-color: #E8F0FE;\n",
              "      border: none;\n",
              "      border-radius: 50%;\n",
              "      cursor: pointer;\n",
              "      display: none;\n",
              "      fill: #1967D2;\n",
              "      height: 32px;\n",
              "      padding: 0 0 0 0;\n",
              "      width: 32px;\n",
              "    }\n",
              "\n",
              "    .colab-df-convert:hover {\n",
              "      background-color: #E2EBFA;\n",
              "      box-shadow: 0px 1px 2px rgba(60, 64, 67, 0.3), 0px 1px 3px 1px rgba(60, 64, 67, 0.15);\n",
              "      fill: #174EA6;\n",
              "    }\n",
              "\n",
              "    [theme=dark] .colab-df-convert {\n",
              "      background-color: #3B4455;\n",
              "      fill: #D2E3FC;\n",
              "    }\n",
              "\n",
              "    [theme=dark] .colab-df-convert:hover {\n",
              "      background-color: #434B5C;\n",
              "      box-shadow: 0px 1px 3px 1px rgba(0, 0, 0, 0.15);\n",
              "      filter: drop-shadow(0px 1px 2px rgba(0, 0, 0, 0.3));\n",
              "      fill: #FFFFFF;\n",
              "    }\n",
              "  </style>\n",
              "\n",
              "      <script>\n",
              "        const buttonEl =\n",
              "          document.querySelector('#df-adb072ad-ebb1-40c0-a80a-1288f15e4512 button.colab-df-convert');\n",
              "        buttonEl.style.display =\n",
              "          google.colab.kernel.accessAllowed ? 'block' : 'none';\n",
              "\n",
              "        async function convertToInteractive(key) {\n",
              "          const element = document.querySelector('#df-adb072ad-ebb1-40c0-a80a-1288f15e4512');\n",
              "          const dataTable =\n",
              "            await google.colab.kernel.invokeFunction('convertToInteractive',\n",
              "                                                     [key], {});\n",
              "          if (!dataTable) return;\n",
              "\n",
              "          const docLinkHtml = 'Like what you see? Visit the ' +\n",
              "            '<a target=\"_blank\" href=https://colab.research.google.com/notebooks/data_table.ipynb>data table notebook</a>'\n",
              "            + ' to learn more about interactive tables.';\n",
              "          element.innerHTML = '';\n",
              "          dataTable['output_type'] = 'display_data';\n",
              "          await google.colab.output.renderOutput(dataTable, element);\n",
              "          const docLink = document.createElement('div');\n",
              "          docLink.innerHTML = docLinkHtml;\n",
              "          element.appendChild(docLink);\n",
              "        }\n",
              "      </script>\n",
              "    </div>\n",
              "  </div>\n",
              "  "
            ]
          },
          "metadata": {},
          "execution_count": 18
        }
      ],
      "source": [
        "shot_data.tail()"
      ]
    },
    {
      "cell_type": "markdown",
      "source": [
        "Creating more variables to use in the models"
      ],
      "metadata": {
        "id": "Z6LQZyDnTNvf"
      }
    },
    {
      "cell_type": "code",
      "source": [
        "shot_data['distance_sqrd']=shot_data['distance'].apply(np.square)\n",
        "shot_data.tail()"
      ],
      "metadata": {
        "id": "5aEIce__TQnt",
        "outputId": "7cfcddf8-266d-4c73-a5af-5e8e8c2d1226",
        "colab": {
          "base_uri": "https://localhost:8080/",
          "height": 206
        }
      },
      "execution_count": 19,
      "outputs": [
        {
          "output_type": "execute_result",
          "data": {
            "text/plain": [
              "            x        y   distance     angle  players_in_between  goal  \\\n",
              "5984  35.3460  11.5714  41.861460  0.283130                   2     0   \n",
              "5985  18.6453  24.9418  20.729163  0.601883                   9     0   \n",
              "5986  45.6519   3.0709  55.142590  0.210771                   2     0   \n",
              "5987  50.2435  29.7878  50.419757  0.275377                   2     0   \n",
              "5988  47.4583  37.4721  47.585142  0.291790                   3     0   \n",
              "\n",
              "      distance_sqrd  \n",
              "5984    1752.381814  \n",
              "5985     429.698199  \n",
              "5986    3040.705200  \n",
              "5987    2542.151921  \n",
              "5988    2264.345717  "
            ],
            "text/html": [
              "\n",
              "  <div id=\"df-24054c48-ca2b-46d3-b61e-acec2940dde0\">\n",
              "    <div class=\"colab-df-container\">\n",
              "      <div>\n",
              "<style scoped>\n",
              "    .dataframe tbody tr th:only-of-type {\n",
              "        vertical-align: middle;\n",
              "    }\n",
              "\n",
              "    .dataframe tbody tr th {\n",
              "        vertical-align: top;\n",
              "    }\n",
              "\n",
              "    .dataframe thead th {\n",
              "        text-align: right;\n",
              "    }\n",
              "</style>\n",
              "<table border=\"1\" class=\"dataframe\">\n",
              "  <thead>\n",
              "    <tr style=\"text-align: right;\">\n",
              "      <th></th>\n",
              "      <th>x</th>\n",
              "      <th>y</th>\n",
              "      <th>distance</th>\n",
              "      <th>angle</th>\n",
              "      <th>players_in_between</th>\n",
              "      <th>goal</th>\n",
              "      <th>distance_sqrd</th>\n",
              "    </tr>\n",
              "  </thead>\n",
              "  <tbody>\n",
              "    <tr>\n",
              "      <th>5984</th>\n",
              "      <td>35.3460</td>\n",
              "      <td>11.5714</td>\n",
              "      <td>41.861460</td>\n",
              "      <td>0.283130</td>\n",
              "      <td>2</td>\n",
              "      <td>0</td>\n",
              "      <td>1752.381814</td>\n",
              "    </tr>\n",
              "    <tr>\n",
              "      <th>5985</th>\n",
              "      <td>18.6453</td>\n",
              "      <td>24.9418</td>\n",
              "      <td>20.729163</td>\n",
              "      <td>0.601883</td>\n",
              "      <td>9</td>\n",
              "      <td>0</td>\n",
              "      <td>429.698199</td>\n",
              "    </tr>\n",
              "    <tr>\n",
              "      <th>5986</th>\n",
              "      <td>45.6519</td>\n",
              "      <td>3.0709</td>\n",
              "      <td>55.142590</td>\n",
              "      <td>0.210771</td>\n",
              "      <td>2</td>\n",
              "      <td>0</td>\n",
              "      <td>3040.705200</td>\n",
              "    </tr>\n",
              "    <tr>\n",
              "      <th>5987</th>\n",
              "      <td>50.2435</td>\n",
              "      <td>29.7878</td>\n",
              "      <td>50.419757</td>\n",
              "      <td>0.275377</td>\n",
              "      <td>2</td>\n",
              "      <td>0</td>\n",
              "      <td>2542.151921</td>\n",
              "    </tr>\n",
              "    <tr>\n",
              "      <th>5988</th>\n",
              "      <td>47.4583</td>\n",
              "      <td>37.4721</td>\n",
              "      <td>47.585142</td>\n",
              "      <td>0.291790</td>\n",
              "      <td>3</td>\n",
              "      <td>0</td>\n",
              "      <td>2264.345717</td>\n",
              "    </tr>\n",
              "  </tbody>\n",
              "</table>\n",
              "</div>\n",
              "      <button class=\"colab-df-convert\" onclick=\"convertToInteractive('df-24054c48-ca2b-46d3-b61e-acec2940dde0')\"\n",
              "              title=\"Convert this dataframe to an interactive table.\"\n",
              "              style=\"display:none;\">\n",
              "        \n",
              "  <svg xmlns=\"http://www.w3.org/2000/svg\" height=\"24px\"viewBox=\"0 0 24 24\"\n",
              "       width=\"24px\">\n",
              "    <path d=\"M0 0h24v24H0V0z\" fill=\"none\"/>\n",
              "    <path d=\"M18.56 5.44l.94 2.06.94-2.06 2.06-.94-2.06-.94-.94-2.06-.94 2.06-2.06.94zm-11 1L8.5 8.5l.94-2.06 2.06-.94-2.06-.94L8.5 2.5l-.94 2.06-2.06.94zm10 10l.94 2.06.94-2.06 2.06-.94-2.06-.94-.94-2.06-.94 2.06-2.06.94z\"/><path d=\"M17.41 7.96l-1.37-1.37c-.4-.4-.92-.59-1.43-.59-.52 0-1.04.2-1.43.59L10.3 9.45l-7.72 7.72c-.78.78-.78 2.05 0 2.83L4 21.41c.39.39.9.59 1.41.59.51 0 1.02-.2 1.41-.59l7.78-7.78 2.81-2.81c.8-.78.8-2.07 0-2.86zM5.41 20L4 18.59l7.72-7.72 1.47 1.35L5.41 20z\"/>\n",
              "  </svg>\n",
              "      </button>\n",
              "      \n",
              "  <style>\n",
              "    .colab-df-container {\n",
              "      display:flex;\n",
              "      flex-wrap:wrap;\n",
              "      gap: 12px;\n",
              "    }\n",
              "\n",
              "    .colab-df-convert {\n",
              "      background-color: #E8F0FE;\n",
              "      border: none;\n",
              "      border-radius: 50%;\n",
              "      cursor: pointer;\n",
              "      display: none;\n",
              "      fill: #1967D2;\n",
              "      height: 32px;\n",
              "      padding: 0 0 0 0;\n",
              "      width: 32px;\n",
              "    }\n",
              "\n",
              "    .colab-df-convert:hover {\n",
              "      background-color: #E2EBFA;\n",
              "      box-shadow: 0px 1px 2px rgba(60, 64, 67, 0.3), 0px 1px 3px 1px rgba(60, 64, 67, 0.15);\n",
              "      fill: #174EA6;\n",
              "    }\n",
              "\n",
              "    [theme=dark] .colab-df-convert {\n",
              "      background-color: #3B4455;\n",
              "      fill: #D2E3FC;\n",
              "    }\n",
              "\n",
              "    [theme=dark] .colab-df-convert:hover {\n",
              "      background-color: #434B5C;\n",
              "      box-shadow: 0px 1px 3px 1px rgba(0, 0, 0, 0.15);\n",
              "      filter: drop-shadow(0px 1px 2px rgba(0, 0, 0, 0.3));\n",
              "      fill: #FFFFFF;\n",
              "    }\n",
              "  </style>\n",
              "\n",
              "      <script>\n",
              "        const buttonEl =\n",
              "          document.querySelector('#df-24054c48-ca2b-46d3-b61e-acec2940dde0 button.colab-df-convert');\n",
              "        buttonEl.style.display =\n",
              "          google.colab.kernel.accessAllowed ? 'block' : 'none';\n",
              "\n",
              "        async function convertToInteractive(key) {\n",
              "          const element = document.querySelector('#df-24054c48-ca2b-46d3-b61e-acec2940dde0');\n",
              "          const dataTable =\n",
              "            await google.colab.kernel.invokeFunction('convertToInteractive',\n",
              "                                                     [key], {});\n",
              "          if (!dataTable) return;\n",
              "\n",
              "          const docLinkHtml = 'Like what you see? Visit the ' +\n",
              "            '<a target=\"_blank\" href=https://colab.research.google.com/notebooks/data_table.ipynb>data table notebook</a>'\n",
              "            + ' to learn more about interactive tables.';\n",
              "          element.innerHTML = '';\n",
              "          dataTable['output_type'] = 'display_data';\n",
              "          await google.colab.output.renderOutput(dataTable, element);\n",
              "          const docLink = document.createElement('div');\n",
              "          docLink.innerHTML = docLinkHtml;\n",
              "          element.appendChild(docLink);\n",
              "        }\n",
              "      </script>\n",
              "    </div>\n",
              "  </div>\n",
              "  "
            ]
          },
          "metadata": {},
          "execution_count": 19
        }
      ]
    },
    {
      "cell_type": "code",
      "source": [
        "shot_data['dist_c']=shot_data['y'].apply(lambda y: abs(y-34))\n",
        "shot_data.tail()"
      ],
      "metadata": {
        "id": "73cfKsavT_8f",
        "outputId": "0445a846-a188-4e82-8b04-190af2273131",
        "colab": {
          "base_uri": "https://localhost:8080/",
          "height": 206
        }
      },
      "execution_count": 20,
      "outputs": [
        {
          "output_type": "execute_result",
          "data": {
            "text/plain": [
              "            x        y   distance     angle  players_in_between  goal  \\\n",
              "5984  35.3460  11.5714  41.861460  0.283130                   2     0   \n",
              "5985  18.6453  24.9418  20.729163  0.601883                   9     0   \n",
              "5986  45.6519   3.0709  55.142590  0.210771                   2     0   \n",
              "5987  50.2435  29.7878  50.419757  0.275377                   2     0   \n",
              "5988  47.4583  37.4721  47.585142  0.291790                   3     0   \n",
              "\n",
              "      distance_sqrd   dist_c  \n",
              "5984    1752.381814  22.4286  \n",
              "5985     429.698199   9.0582  \n",
              "5986    3040.705200  30.9291  \n",
              "5987    2542.151921   4.2122  \n",
              "5988    2264.345717   3.4721  "
            ],
            "text/html": [
              "\n",
              "  <div id=\"df-25736adf-41d7-48a7-ac21-c9aa22a33703\">\n",
              "    <div class=\"colab-df-container\">\n",
              "      <div>\n",
              "<style scoped>\n",
              "    .dataframe tbody tr th:only-of-type {\n",
              "        vertical-align: middle;\n",
              "    }\n",
              "\n",
              "    .dataframe tbody tr th {\n",
              "        vertical-align: top;\n",
              "    }\n",
              "\n",
              "    .dataframe thead th {\n",
              "        text-align: right;\n",
              "    }\n",
              "</style>\n",
              "<table border=\"1\" class=\"dataframe\">\n",
              "  <thead>\n",
              "    <tr style=\"text-align: right;\">\n",
              "      <th></th>\n",
              "      <th>x</th>\n",
              "      <th>y</th>\n",
              "      <th>distance</th>\n",
              "      <th>angle</th>\n",
              "      <th>players_in_between</th>\n",
              "      <th>goal</th>\n",
              "      <th>distance_sqrd</th>\n",
              "      <th>dist_c</th>\n",
              "    </tr>\n",
              "  </thead>\n",
              "  <tbody>\n",
              "    <tr>\n",
              "      <th>5984</th>\n",
              "      <td>35.3460</td>\n",
              "      <td>11.5714</td>\n",
              "      <td>41.861460</td>\n",
              "      <td>0.283130</td>\n",
              "      <td>2</td>\n",
              "      <td>0</td>\n",
              "      <td>1752.381814</td>\n",
              "      <td>22.4286</td>\n",
              "    </tr>\n",
              "    <tr>\n",
              "      <th>5985</th>\n",
              "      <td>18.6453</td>\n",
              "      <td>24.9418</td>\n",
              "      <td>20.729163</td>\n",
              "      <td>0.601883</td>\n",
              "      <td>9</td>\n",
              "      <td>0</td>\n",
              "      <td>429.698199</td>\n",
              "      <td>9.0582</td>\n",
              "    </tr>\n",
              "    <tr>\n",
              "      <th>5986</th>\n",
              "      <td>45.6519</td>\n",
              "      <td>3.0709</td>\n",
              "      <td>55.142590</td>\n",
              "      <td>0.210771</td>\n",
              "      <td>2</td>\n",
              "      <td>0</td>\n",
              "      <td>3040.705200</td>\n",
              "      <td>30.9291</td>\n",
              "    </tr>\n",
              "    <tr>\n",
              "      <th>5987</th>\n",
              "      <td>50.2435</td>\n",
              "      <td>29.7878</td>\n",
              "      <td>50.419757</td>\n",
              "      <td>0.275377</td>\n",
              "      <td>2</td>\n",
              "      <td>0</td>\n",
              "      <td>2542.151921</td>\n",
              "      <td>4.2122</td>\n",
              "    </tr>\n",
              "    <tr>\n",
              "      <th>5988</th>\n",
              "      <td>47.4583</td>\n",
              "      <td>37.4721</td>\n",
              "      <td>47.585142</td>\n",
              "      <td>0.291790</td>\n",
              "      <td>3</td>\n",
              "      <td>0</td>\n",
              "      <td>2264.345717</td>\n",
              "      <td>3.4721</td>\n",
              "    </tr>\n",
              "  </tbody>\n",
              "</table>\n",
              "</div>\n",
              "      <button class=\"colab-df-convert\" onclick=\"convertToInteractive('df-25736adf-41d7-48a7-ac21-c9aa22a33703')\"\n",
              "              title=\"Convert this dataframe to an interactive table.\"\n",
              "              style=\"display:none;\">\n",
              "        \n",
              "  <svg xmlns=\"http://www.w3.org/2000/svg\" height=\"24px\"viewBox=\"0 0 24 24\"\n",
              "       width=\"24px\">\n",
              "    <path d=\"M0 0h24v24H0V0z\" fill=\"none\"/>\n",
              "    <path d=\"M18.56 5.44l.94 2.06.94-2.06 2.06-.94-2.06-.94-.94-2.06-.94 2.06-2.06.94zm-11 1L8.5 8.5l.94-2.06 2.06-.94-2.06-.94L8.5 2.5l-.94 2.06-2.06.94zm10 10l.94 2.06.94-2.06 2.06-.94-2.06-.94-.94-2.06-.94 2.06-2.06.94z\"/><path d=\"M17.41 7.96l-1.37-1.37c-.4-.4-.92-.59-1.43-.59-.52 0-1.04.2-1.43.59L10.3 9.45l-7.72 7.72c-.78.78-.78 2.05 0 2.83L4 21.41c.39.39.9.59 1.41.59.51 0 1.02-.2 1.41-.59l7.78-7.78 2.81-2.81c.8-.78.8-2.07 0-2.86zM5.41 20L4 18.59l7.72-7.72 1.47 1.35L5.41 20z\"/>\n",
              "  </svg>\n",
              "      </button>\n",
              "      \n",
              "  <style>\n",
              "    .colab-df-container {\n",
              "      display:flex;\n",
              "      flex-wrap:wrap;\n",
              "      gap: 12px;\n",
              "    }\n",
              "\n",
              "    .colab-df-convert {\n",
              "      background-color: #E8F0FE;\n",
              "      border: none;\n",
              "      border-radius: 50%;\n",
              "      cursor: pointer;\n",
              "      display: none;\n",
              "      fill: #1967D2;\n",
              "      height: 32px;\n",
              "      padding: 0 0 0 0;\n",
              "      width: 32px;\n",
              "    }\n",
              "\n",
              "    .colab-df-convert:hover {\n",
              "      background-color: #E2EBFA;\n",
              "      box-shadow: 0px 1px 2px rgba(60, 64, 67, 0.3), 0px 1px 3px 1px rgba(60, 64, 67, 0.15);\n",
              "      fill: #174EA6;\n",
              "    }\n",
              "\n",
              "    [theme=dark] .colab-df-convert {\n",
              "      background-color: #3B4455;\n",
              "      fill: #D2E3FC;\n",
              "    }\n",
              "\n",
              "    [theme=dark] .colab-df-convert:hover {\n",
              "      background-color: #434B5C;\n",
              "      box-shadow: 0px 1px 3px 1px rgba(0, 0, 0, 0.15);\n",
              "      filter: drop-shadow(0px 1px 2px rgba(0, 0, 0, 0.3));\n",
              "      fill: #FFFFFF;\n",
              "    }\n",
              "  </style>\n",
              "\n",
              "      <script>\n",
              "        const buttonEl =\n",
              "          document.querySelector('#df-25736adf-41d7-48a7-ac21-c9aa22a33703 button.colab-df-convert');\n",
              "        buttonEl.style.display =\n",
              "          google.colab.kernel.accessAllowed ? 'block' : 'none';\n",
              "\n",
              "        async function convertToInteractive(key) {\n",
              "          const element = document.querySelector('#df-25736adf-41d7-48a7-ac21-c9aa22a33703');\n",
              "          const dataTable =\n",
              "            await google.colab.kernel.invokeFunction('convertToInteractive',\n",
              "                                                     [key], {});\n",
              "          if (!dataTable) return;\n",
              "\n",
              "          const docLinkHtml = 'Like what you see? Visit the ' +\n",
              "            '<a target=\"_blank\" href=https://colab.research.google.com/notebooks/data_table.ipynb>data table notebook</a>'\n",
              "            + ' to learn more about interactive tables.';\n",
              "          element.innerHTML = '';\n",
              "          dataTable['output_type'] = 'display_data';\n",
              "          await google.colab.output.renderOutput(dataTable, element);\n",
              "          const docLink = document.createElement('div');\n",
              "          docLink.innerHTML = docLinkHtml;\n",
              "          element.appendChild(docLink);\n",
              "        }\n",
              "      </script>\n",
              "    </div>\n",
              "  </div>\n",
              "  "
            ]
          },
          "metadata": {},
          "execution_count": 20
        }
      ]
    },
    {
      "cell_type": "code",
      "source": [
        "shot_data['dist_c'].describe()"
      ],
      "metadata": {
        "id": "pi0JjTIeUcSB",
        "outputId": "a586f75e-a859-4aa4-ce7a-2f1e06ce120a",
        "colab": {
          "base_uri": "https://localhost:8080/"
        }
      },
      "execution_count": 21,
      "outputs": [
        {
          "output_type": "execute_result",
          "data": {
            "text/plain": [
              "count    5989.000000\n",
              "mean       12.297635\n",
              "std        10.038894\n",
              "min         0.000400\n",
              "25%         4.220500\n",
              "50%         9.248100\n",
              "75%        18.568500\n",
              "max        34.507300\n",
              "Name: dist_c, dtype: float64"
            ]
          },
          "metadata": {},
          "execution_count": 21
        }
      ]
    },
    {
      "cell_type": "markdown",
      "source": [
        "Splitting data into shots and goals"
      ],
      "metadata": {
        "id": "bkLnnMkFUhiq"
      }
    },
    {
      "cell_type": "code",
      "execution_count": 22,
      "metadata": {
        "colab": {
          "base_uri": "https://localhost:8080/",
          "height": 206
        },
        "id": "4hd3jvD_5u5O",
        "outputId": "758c4bb1-4f6a-4c8f-ad0f-d4037916cbe7"
      },
      "outputs": [
        {
          "output_type": "execute_result",
          "data": {
            "text/plain": [
              "            x        y   distance     angle  players_in_between  goal  \\\n",
              "1713   7.1671  25.3688  11.218954  0.918672                   2     1   \n",
              "1714  12.8738  27.5163  14.414336  0.849763                   2     1   \n",
              "1715  10.1892  27.7376  11.959827  0.989305                   2     1   \n",
              "1716  12.2084  32.1331  12.350318  1.027404                   3     1   \n",
              "1717   7.8758  27.5992  10.148816  1.116985                   3     1   \n",
              "\n",
              "      distance_sqrd  dist_c  \n",
              "1713     125.864936  8.6312  \n",
              "1714     207.773092  6.4837  \n",
              "1715     143.037450  6.2624  \n",
              "1716     152.530346  1.8669  \n",
              "1717     102.998466  6.4008  "
            ],
            "text/html": [
              "\n",
              "  <div id=\"df-c1c39b7a-2a94-4441-866f-3a4f89cfae55\">\n",
              "    <div class=\"colab-df-container\">\n",
              "      <div>\n",
              "<style scoped>\n",
              "    .dataframe tbody tr th:only-of-type {\n",
              "        vertical-align: middle;\n",
              "    }\n",
              "\n",
              "    .dataframe tbody tr th {\n",
              "        vertical-align: top;\n",
              "    }\n",
              "\n",
              "    .dataframe thead th {\n",
              "        text-align: right;\n",
              "    }\n",
              "</style>\n",
              "<table border=\"1\" class=\"dataframe\">\n",
              "  <thead>\n",
              "    <tr style=\"text-align: right;\">\n",
              "      <th></th>\n",
              "      <th>x</th>\n",
              "      <th>y</th>\n",
              "      <th>distance</th>\n",
              "      <th>angle</th>\n",
              "      <th>players_in_between</th>\n",
              "      <th>goal</th>\n",
              "      <th>distance_sqrd</th>\n",
              "      <th>dist_c</th>\n",
              "    </tr>\n",
              "  </thead>\n",
              "  <tbody>\n",
              "    <tr>\n",
              "      <th>1713</th>\n",
              "      <td>7.1671</td>\n",
              "      <td>25.3688</td>\n",
              "      <td>11.218954</td>\n",
              "      <td>0.918672</td>\n",
              "      <td>2</td>\n",
              "      <td>1</td>\n",
              "      <td>125.864936</td>\n",
              "      <td>8.6312</td>\n",
              "    </tr>\n",
              "    <tr>\n",
              "      <th>1714</th>\n",
              "      <td>12.8738</td>\n",
              "      <td>27.5163</td>\n",
              "      <td>14.414336</td>\n",
              "      <td>0.849763</td>\n",
              "      <td>2</td>\n",
              "      <td>1</td>\n",
              "      <td>207.773092</td>\n",
              "      <td>6.4837</td>\n",
              "    </tr>\n",
              "    <tr>\n",
              "      <th>1715</th>\n",
              "      <td>10.1892</td>\n",
              "      <td>27.7376</td>\n",
              "      <td>11.959827</td>\n",
              "      <td>0.989305</td>\n",
              "      <td>2</td>\n",
              "      <td>1</td>\n",
              "      <td>143.037450</td>\n",
              "      <td>6.2624</td>\n",
              "    </tr>\n",
              "    <tr>\n",
              "      <th>1716</th>\n",
              "      <td>12.2084</td>\n",
              "      <td>32.1331</td>\n",
              "      <td>12.350318</td>\n",
              "      <td>1.027404</td>\n",
              "      <td>3</td>\n",
              "      <td>1</td>\n",
              "      <td>152.530346</td>\n",
              "      <td>1.8669</td>\n",
              "    </tr>\n",
              "    <tr>\n",
              "      <th>1717</th>\n",
              "      <td>7.8758</td>\n",
              "      <td>27.5992</td>\n",
              "      <td>10.148816</td>\n",
              "      <td>1.116985</td>\n",
              "      <td>3</td>\n",
              "      <td>1</td>\n",
              "      <td>102.998466</td>\n",
              "      <td>6.4008</td>\n",
              "    </tr>\n",
              "  </tbody>\n",
              "</table>\n",
              "</div>\n",
              "      <button class=\"colab-df-convert\" onclick=\"convertToInteractive('df-c1c39b7a-2a94-4441-866f-3a4f89cfae55')\"\n",
              "              title=\"Convert this dataframe to an interactive table.\"\n",
              "              style=\"display:none;\">\n",
              "        \n",
              "  <svg xmlns=\"http://www.w3.org/2000/svg\" height=\"24px\"viewBox=\"0 0 24 24\"\n",
              "       width=\"24px\">\n",
              "    <path d=\"M0 0h24v24H0V0z\" fill=\"none\"/>\n",
              "    <path d=\"M18.56 5.44l.94 2.06.94-2.06 2.06-.94-2.06-.94-.94-2.06-.94 2.06-2.06.94zm-11 1L8.5 8.5l.94-2.06 2.06-.94-2.06-.94L8.5 2.5l-.94 2.06-2.06.94zm10 10l.94 2.06.94-2.06 2.06-.94-2.06-.94-.94-2.06-.94 2.06-2.06.94z\"/><path d=\"M17.41 7.96l-1.37-1.37c-.4-.4-.92-.59-1.43-.59-.52 0-1.04.2-1.43.59L10.3 9.45l-7.72 7.72c-.78.78-.78 2.05 0 2.83L4 21.41c.39.39.9.59 1.41.59.51 0 1.02-.2 1.41-.59l7.78-7.78 2.81-2.81c.8-.78.8-2.07 0-2.86zM5.41 20L4 18.59l7.72-7.72 1.47 1.35L5.41 20z\"/>\n",
              "  </svg>\n",
              "      </button>\n",
              "      \n",
              "  <style>\n",
              "    .colab-df-container {\n",
              "      display:flex;\n",
              "      flex-wrap:wrap;\n",
              "      gap: 12px;\n",
              "    }\n",
              "\n",
              "    .colab-df-convert {\n",
              "      background-color: #E8F0FE;\n",
              "      border: none;\n",
              "      border-radius: 50%;\n",
              "      cursor: pointer;\n",
              "      display: none;\n",
              "      fill: #1967D2;\n",
              "      height: 32px;\n",
              "      padding: 0 0 0 0;\n",
              "      width: 32px;\n",
              "    }\n",
              "\n",
              "    .colab-df-convert:hover {\n",
              "      background-color: #E2EBFA;\n",
              "      box-shadow: 0px 1px 2px rgba(60, 64, 67, 0.3), 0px 1px 3px 1px rgba(60, 64, 67, 0.15);\n",
              "      fill: #174EA6;\n",
              "    }\n",
              "\n",
              "    [theme=dark] .colab-df-convert {\n",
              "      background-color: #3B4455;\n",
              "      fill: #D2E3FC;\n",
              "    }\n",
              "\n",
              "    [theme=dark] .colab-df-convert:hover {\n",
              "      background-color: #434B5C;\n",
              "      box-shadow: 0px 1px 3px 1px rgba(0, 0, 0, 0.15);\n",
              "      filter: drop-shadow(0px 1px 2px rgba(0, 0, 0, 0.3));\n",
              "      fill: #FFFFFF;\n",
              "    }\n",
              "  </style>\n",
              "\n",
              "      <script>\n",
              "        const buttonEl =\n",
              "          document.querySelector('#df-c1c39b7a-2a94-4441-866f-3a4f89cfae55 button.colab-df-convert');\n",
              "        buttonEl.style.display =\n",
              "          google.colab.kernel.accessAllowed ? 'block' : 'none';\n",
              "\n",
              "        async function convertToInteractive(key) {\n",
              "          const element = document.querySelector('#df-c1c39b7a-2a94-4441-866f-3a4f89cfae55');\n",
              "          const dataTable =\n",
              "            await google.colab.kernel.invokeFunction('convertToInteractive',\n",
              "                                                     [key], {});\n",
              "          if (!dataTable) return;\n",
              "\n",
              "          const docLinkHtml = 'Like what you see? Visit the ' +\n",
              "            '<a target=\"_blank\" href=https://colab.research.google.com/notebooks/data_table.ipynb>data table notebook</a>'\n",
              "            + ' to learn more about interactive tables.';\n",
              "          element.innerHTML = '';\n",
              "          dataTable['output_type'] = 'display_data';\n",
              "          await google.colab.output.renderOutput(dataTable, element);\n",
              "          const docLink = document.createElement('div');\n",
              "          docLink.innerHTML = docLinkHtml;\n",
              "          element.appendChild(docLink);\n",
              "        }\n",
              "      </script>\n",
              "    </div>\n",
              "  </div>\n",
              "  "
            ]
          },
          "metadata": {},
          "execution_count": 22
        }
      ],
      "source": [
        "goals_only = shot_data[shot_data['goal']==1].reset_index(drop=True)\n",
        "shots_only = shot_data[shot_data['goal'] != 1].reset_index(drop=True)\n",
        "goals_only.tail()"
      ]
    },
    {
      "cell_type": "code",
      "execution_count": 23,
      "metadata": {
        "colab": {
          "base_uri": "https://localhost:8080/"
        },
        "id": "OhMgBvIUAyLR",
        "outputId": "d8f58bb2-877a-4401-a1c0-1d21dfe88f7a"
      },
      "outputs": [
        {
          "output_type": "execute_result",
          "data": {
            "text/plain": [
              "(1718, 5989)"
            ]
          },
          "metadata": {},
          "execution_count": 23
        }
      ],
      "source": [
        "len(goals_only), len(shot_data)"
      ]
    },
    {
      "cell_type": "markdown",
      "metadata": {
        "id": "fle_nV3Ia998"
      },
      "source": [
        "## Exploratory data analysis\n",
        "To help understand how the data is distributed we make many plots with different features"
      ]
    },
    {
      "cell_type": "code",
      "source": [
        "from matplotlib.patches import Arc"
      ],
      "metadata": {
        "id": "L_x32_geO0Uz"
      },
      "execution_count": 10,
      "outputs": []
    },
    {
      "cell_type": "code",
      "execution_count": 11,
      "metadata": {
        "id": "QawRBQKEXQu6"
      },
      "outputs": [],
      "source": [
        "def createGoalMouth(fig_size=(10, 6)):\n",
        "    \"\"\"\n",
        "    Creates goal mouth fig\n",
        "    \"\"\"\n",
        "    fig, ax=plt.subplots(1,1,figsize=fig_size)\n",
        "\n",
        "    linecolor='black'\n",
        "\n",
        "    #Pitch Outline & Centre Line\n",
        "    plt.plot([0,68],[0,0], color=linecolor)\n",
        "    plt.plot([68,68],[52.5,0], color=linecolor)\n",
        "    plt.plot([0,0],[52.5,0], color=linecolor)\n",
        "    \n",
        "    #Left Penalty Area\n",
        "    plt.plot([13.84,13.84],[0,16.5],color=linecolor)\n",
        "    plt.plot([13.84,54.16],[16.5,16.5],color=linecolor)\n",
        "    plt.plot([54.16,54.16],[0,16.5],color=linecolor)    \n",
        "    \n",
        "    #Goal\n",
        "    plt.plot([41.01,41.01],[-2,0],color=linecolor)\n",
        "    plt.plot([26.99,41.01],[-2,-2],color=linecolor)\n",
        "    plt.plot([26.99,26.99],[0,-2],color=linecolor)\n",
        "    \n",
        "    #Prepare Circles\n",
        "    leftPenSpot = plt.Circle((68/2,11),0.4,color=linecolor)\n",
        "    \n",
        "    #Draw Circles\n",
        "    ax.add_patch(leftPenSpot)\n",
        "\n",
        "    #Prepare Arcs\n",
        "    leftArc = Arc((34,11),height=18,width=18,angle=0,theta1=38,theta2=142,color=linecolor)\n",
        "    \n",
        "    #Draw Arcs\n",
        "    ax.add_patch(leftArc)\n",
        "        \n",
        "    #Tidy Axes\n",
        "    plt.axis('off')\n",
        "    \n",
        "    return fig,ax"
      ]
    },
    {
      "cell_type": "markdown",
      "metadata": {
        "id": "OdZj_QCcEgHi"
      },
      "source": [
        "Analyzing frequency of shots and goals per position on the pitch"
      ]
    },
    {
      "cell_type": "code",
      "execution_count": 24,
      "metadata": {
        "colab": {
          "base_uri": "https://localhost:8080/",
          "height": 741
        },
        "id": "ZnnAWgWvXTBU",
        "outputId": "7014ce94-05da-456b-dfd5-ddf6aa1d71bd"
      },
      "outputs": [
        {
          "output_type": "display_data",
          "data": {
            "text/plain": [
              "<Figure size 720x432 with 2 Axes>"
            ],
            "image/png": "[encoded data removed]"
          },
          "metadata": {
            "needs_background": "light"
          }
        },
        {
          "output_type": "display_data",
          "data": {
            "text/plain": [
              "<Figure size 720x432 with 2 Axes>"
            ],
            "image/png": "[encoded data removed]"
          },
          "metadata": {
            "needs_background": "light"
          }
        }
      ],
      "source": [
        "(fig,ax) = createGoalMouth()\n",
        "pos=ax.hexbin(data =shots_only, x='y', y='x',zorder=1,cmap='OrRd',gridsize=(25,10),alpha=.7,extent=(0,68,0,52.5))\n",
        "ax.set_xlim(-1, 69)\n",
        "ax.set_ylim(-3,52.5)\n",
        "plt.colorbar(pos, ax=ax)\n",
        "ax.set_title('Frequency of shots')\n",
        "\n",
        "fig, ax = createGoalMouth()\n",
        "pos=ax.hexbin(data = goals_only,x='y', y='x',zorder=1,cmap='OrRd',gridsize=(25,10),alpha=.7,extent=(0,68,0,52.5))\n",
        "ax.set_xlim(-1, 69)\n",
        "ax.set_ylim(-3,52.5)\n",
        "plt.colorbar(pos, ax=ax)\n",
        "plt.axis('off')\n",
        "ax.set_title('Goal frequency')\n",
        "\n",
        "plt.show()"
      ]
    },
    {
      "cell_type": "markdown",
      "metadata": {
        "id": "NnpVzlUGEjGy"
      },
      "source": [
        "Plotting the first 750 shots and 250 goals if there's a tendency"
      ]
    },
    {
      "cell_type": "code",
      "execution_count": 25,
      "metadata": {
        "colab": {
          "base_uri": "https://localhost:8080/",
          "height": 385
        },
        "id": "weWfiablYUus",
        "outputId": "d016340d-d9a5-47cf-d6fb-2c2876b9a655"
      },
      "outputs": [
        {
          "output_type": "display_data",
          "data": {
            "text/plain": [
              "<Figure size 489.6x378 with 1 Axes>"
            ],
            "image/png": "[encoded data removed]"
          },
          "metadata": {
            "needs_background": "light"
          }
        }
      ],
      "source": [
        "(fig,ax) = createGoalMouth((6.8,5.25))\n",
        "shots_1000 = shots_only[0:750]\n",
        "goals_1000 = goals_only[0:250]\n",
        "ax.plot(shots_1000['y'], shots_1000['x'], 'rx', label='misses', alpha=0.4)\n",
        "ax.plot(goals_1000['y'], goals_1000['x'], 'go', label='goals', alpha=0.4)\n",
        "ax.set_title('Shots')\n",
        "ax.legend()\n",
        "plt.xlim((-1,69))\n",
        "plt.ylim((-3,47.5))\n",
        "plt.tight_layout()\n",
        "plt.gca().set_aspect('equal', adjustable='box')\n",
        "plt.show()"
      ]
    },
    {
      "cell_type": "markdown",
      "metadata": {
        "id": "Sc-MpQHDk76N"
      },
      "source": [
        "## Building the model\n",
        "We will use a model based on the logistic function, very useful for this kind of problema as we are interested in the probability of goals given some variables and the function outputs a value between 0 and 1."
      ]
    },
    {
      "cell_type": "code",
      "execution_count": 14,
      "metadata": {
        "colab": {
          "base_uri": "https://localhost:8080/"
        },
        "id": "4uX4klhDlIFX",
        "outputId": "9abeaa4d-2d8b-46e2-ca07-daa5266c539b"
      },
      "outputs": [
        {
          "output_type": "stream",
          "name": "stderr",
          "text": [
            "/usr/local/lib/python3.7/dist-packages/statsmodels/tools/_testing.py:19: FutureWarning: pandas.util.testing is deprecated. Use the functions in the public API at pandas.testing instead.\n",
            "  import pandas.util.testing as tm\n"
          ]
        }
      ],
      "source": [
        "import statsmodels.api as sm\n",
        "import statsmodels.formula.api as smf"
      ]
    },
    {
      "cell_type": "markdown",
      "metadata": {
        "id": "sci_xZfonJc6"
      },
      "source": [
        "Showing first 200 shots results based on angle"
      ]
    },
    {
      "cell_type": "code",
      "execution_count": 26,
      "metadata": {
        "colab": {
          "base_uri": "https://localhost:8080/",
          "height": 279
        },
        "id": "FyD-LFr-mZjT",
        "outputId": "9ff4e347-cd11-4719-8607-9cbe4413f8ec"
      },
      "outputs": [
        {
          "output_type": "display_data",
          "data": {
            "text/plain": [
              "<Figure size 432x288 with 1 Axes>"
            ],
            "image/png": "[encoded data removed]"
          },
          "metadata": {
            "needs_background": "light"
          }
        }
      ],
      "source": [
        "shots_200=shot_data.iloc[:200]\n",
        "\n",
        "#Plot first 200 shots goal angle\n",
        "fig,ax=plt.subplots(num=1)\n",
        "ax.plot(shots_200['angle']*180/np.pi, shots_200['goal'], linestyle='none', marker= '.', color='black')\n",
        "ax.set_ylabel('Goal scored')\n",
        "ax.set_xlabel(\"Shot angle (degrees)\")\n",
        "plt.ylim((-0.05,1.05))\n",
        "ax.set_yticks([0,1])\n",
        "ax.set_yticklabels(['No','Yes'])\n",
        "plt.show()"
      ]
    },
    {
      "cell_type": "markdown",
      "metadata": {
        "id": "-57u7vRJOC0w"
      },
      "source": [
        "Show empirically how goal angle predicts probability of scoring\n"
      ]
    },
    {
      "cell_type": "code",
      "execution_count": 27,
      "metadata": {
        "colab": {
          "base_uri": "https://localhost:8080/",
          "height": 279
        },
        "id": "NnJLLNxkndN0",
        "outputId": "9c01a16c-d3d7-40b1-a9da-ec87e988b14e"
      },
      "outputs": [
        {
          "output_type": "display_data",
          "data": {
            "text/plain": [
              "<Figure size 432x288 with 1 Axes>"
            ],
            "image/png": "[encoded data removed]"
          },
          "metadata": {
            "needs_background": "light"
          }
        }
      ],
      "source": [
        "shotcount_dist=np.histogram(shot_data['angle']*180/np.pi,bins=40,range=[0, 150])\n",
        "goalcount_dist=np.histogram(goals_only['angle']*180/np.pi,bins=40,range=[0, 150])\n",
        "prob_goal=np.divide(goalcount_dist[0],shotcount_dist[0])\n",
        "angle=shotcount_dist[1]\n",
        "midangle= (angle[:-1] + angle[1:])/2\n",
        "fig,ax=plt.subplots(num=2)\n",
        "ax.plot(midangle, prob_goal, linestyle='none', marker= '.', color='black')\n",
        "ax.set_ylabel('Probability chance scored')\n",
        "ax.set_xlabel(\"Shot angle (degrees)\")\n",
        "ax.spines['top'].set_visible(False)\n",
        "ax.spines['right'].set_visible(False)"
      ]
    },
    {
      "cell_type": "markdown",
      "source": [
        "### Model experiments\n",
        "Build many models and evaluate their goodness of fit using the McFadden’s pseudo-R squared for Logistic Regression"
      ],
      "metadata": {
        "id": "JV7oWNTNPnIb"
      }
    },
    {
      "cell_type": "markdown",
      "source": [
        "#### Distance"
      ],
      "metadata": {
        "id": "camyOftZPyNU"
      }
    },
    {
      "cell_type": "code",
      "source": [
        "model_variables = ['distance']\n",
        "model=''\n",
        "for v in model_variables[:-1]:\n",
        "    model = model  + v + ' + '\n",
        "model = model + model_variables[-1]\n",
        "\n",
        "#Fit the model\n",
        "test_model_1 = smf.glm(formula=\"goal ~ \" + model, data=shot_data, family=sm.families.Binomial()).fit()\n",
        "print(test_model_1.summary())"
      ],
      "metadata": {
        "id": "U-OIc9uHPuy8",
        "outputId": "c06cb34f-4ce6-4e9d-f30e-ce461fb79f9a",
        "colab": {
          "base_uri": "https://localhost:8080/"
        }
      },
      "execution_count": 51,
      "outputs": [
        {
          "output_type": "stream",
          "name": "stdout",
          "text": [
            "                 Generalized Linear Model Regression Results                  \n",
            "==============================================================================\n",
            "Dep. Variable:                   goal   No. Observations:                 5989\n",
            "Model:                            GLM   Df Residuals:                     5987\n",
            "Model Family:                Binomial   Df Model:                            1\n",
            "Link Function:                  logit   Scale:                          1.0000\n",
            "Method:                          IRLS   Log-Likelihood:                -2015.8\n",
            "Date:                Thu, 21 Apr 2022   Deviance:                       4031.6\n",
            "Time:                        18:37:05   Pearson chi2:                 5.06e+04\n",
            "No. Iterations:                     8                                         \n",
            "Covariance Type:            nonrobust                                         \n",
            "==============================================================================\n",
            "                 coef    std err          z      P>|z|      [0.025      0.975]\n",
            "------------------------------------------------------------------------------\n",
            "Intercept      3.3967      0.122     27.794      0.000       3.157       3.636\n",
            "distance      -0.2428      0.008    -29.393      0.000      -0.259      -0.227\n",
            "==============================================================================\n"
          ]
        }
      ]
    },
    {
      "cell_type": "code",
      "source": [
        "#Mcfaddens Rsquared for Logistic regression\n",
        "null_model = smf.glm(formula=\"goal ~ 1 \", data=shot_data, family=sm.families.Binomial()).fit()\n",
        "1-test_model_1.llf/null_model.llf"
      ],
      "metadata": {
        "colab": {
          "base_uri": "https://localhost:8080/"
        },
        "id": "h3Zx3TqRaABu",
        "outputId": "6ba6ceeb-aba6-42af-9445-f5c04635fd29"
      },
      "execution_count": 56,
      "outputs": [
        {
          "output_type": "execute_result",
          "data": {
            "text/plain": [
              "0.43839002317300446"
            ]
          },
          "metadata": {},
          "execution_count": 56
        }
      ]
    },
    {
      "cell_type": "markdown",
      "source": [
        "#### Distance and Distance²"
      ],
      "metadata": {
        "id": "5R-9SsCQVQL5"
      }
    },
    {
      "cell_type": "code",
      "source": [
        "model_variables = ['distance', 'distance_sqrd']\n",
        "model=''\n",
        "for v in model_variables[:-1]:\n",
        "    model = model  + v + ' + '\n",
        "model = model + model_variables[-1]\n",
        "\n",
        "#Fit the model\n",
        "test_model_2 = smf.glm(formula=\"goal ~ \" + model, data=shot_data, family=sm.families.Binomial()).fit()\n",
        "print(test_model_2.summary())"
      ],
      "metadata": {
        "id": "q5YmEqpKVVNg",
        "outputId": "867cfcd6-703b-4d93-fde3-25ca55e418a7",
        "colab": {
          "base_uri": "https://localhost:8080/"
        }
      },
      "execution_count": 53,
      "outputs": [
        {
          "output_type": "stream",
          "name": "stdout",
          "text": [
            "                 Generalized Linear Model Regression Results                  \n",
            "==============================================================================\n",
            "Dep. Variable:                   goal   No. Observations:                 5989\n",
            "Model:                            GLM   Df Residuals:                     5986\n",
            "Model Family:                Binomial   Df Model:                            2\n",
            "Link Function:                  logit   Scale:                          1.0000\n",
            "Method:                          IRLS   Log-Likelihood:                -2011.9\n",
            "Date:                Thu, 21 Apr 2022   Deviance:                       4023.9\n",
            "Time:                        18:37:18   Pearson chi2:                 1.07e+04\n",
            "No. Iterations:                     9                                         \n",
            "Covariance Type:            nonrobust                                         \n",
            "=================================================================================\n",
            "                    coef    std err          z      P>|z|      [0.025      0.975]\n",
            "---------------------------------------------------------------------------------\n",
            "Intercept         3.9743      0.233     17.031      0.000       3.517       4.432\n",
            "distance         -0.3149      0.025    -12.367      0.000      -0.365      -0.265\n",
            "distance_sqrd     0.0020      0.001      3.154      0.002       0.001       0.003\n",
            "=================================================================================\n"
          ]
        }
      ]
    },
    {
      "cell_type": "code",
      "source": [
        "#Mcfaddens Rsquared for Logistic regression\n",
        "null_model = smf.glm(formula=\"goal ~ 1 \", data=shot_data, family=sm.families.Binomial()).fit()\n",
        "1-test_model_2.llf/null_model.llf"
      ],
      "metadata": {
        "outputId": "707a8444-ea06-4a3c-ba6c-276e1120c55b",
        "colab": {
          "base_uri": "https://localhost:8080/"
        },
        "id": "HXl1cTHUaEpG"
      },
      "execution_count": 57,
      "outputs": [
        {
          "output_type": "execute_result",
          "data": {
            "text/plain": [
              "0.4394652258314098"
            ]
          },
          "metadata": {},
          "execution_count": 57
        }
      ]
    },
    {
      "cell_type": "markdown",
      "source": [
        "#### Position"
      ],
      "metadata": {
        "id": "rFSoBknJVszV"
      }
    },
    {
      "cell_type": "code",
      "source": [
        "model_variables = ['x', 'y']\n",
        "model=''\n",
        "for v in model_variables[:-1]:\n",
        "    model = model  + v + ' + '\n",
        "model = model + model_variables[-1]\n",
        "\n",
        "#Fit the model\n",
        "test_model_3 = smf.glm(formula=\"goal ~ \" + model, data=shot_data, family=sm.families.Binomial()).fit()\n",
        "print(test_model_3.summary())"
      ],
      "metadata": {
        "id": "tT1rFQHrVyUd",
        "outputId": "3de77c64-61c4-4dc5-bf40-db724c2b5d44",
        "colab": {
          "base_uri": "https://localhost:8080/"
        }
      },
      "execution_count": 55,
      "outputs": [
        {
          "output_type": "stream",
          "name": "stdout",
          "text": [
            "                 Generalized Linear Model Regression Results                  \n",
            "==============================================================================\n",
            "Dep. Variable:                   goal   No. Observations:                 5989\n",
            "Model:                            GLM   Df Residuals:                     5986\n",
            "Model Family:                Binomial   Df Model:                            2\n",
            "Link Function:                  logit   Scale:                          1.0000\n",
            "Method:                          IRLS   Log-Likelihood:                -2487.0\n",
            "Date:                Thu, 21 Apr 2022   Deviance:                       4974.0\n",
            "Time:                        18:37:31   Pearson chi2:                 6.48e+03\n",
            "No. Iterations:                     7                                         \n",
            "Covariance Type:            nonrobust                                         \n",
            "==============================================================================\n",
            "                 coef    std err          z      P>|z|      [0.025      0.975]\n",
            "------------------------------------------------------------------------------\n",
            "Intercept      1.4015      0.118     11.850      0.000       1.170       1.633\n",
            "x             -0.1652      0.006    -29.211      0.000      -0.176      -0.154\n",
            "y              0.0075      0.003      2.626      0.009       0.002       0.013\n",
            "==============================================================================\n"
          ]
        }
      ]
    },
    {
      "cell_type": "code",
      "source": [
        "#Mcfaddens Rsquared for Logistic regression\n",
        "null_model = smf.glm(formula=\"goal ~ 1 \", data=shot_data, family=sm.families.Binomial()).fit()\n",
        "1-test_model_3.llf/null_model.llf"
      ],
      "metadata": {
        "outputId": "08e9343f-90ff-4729-d563-eedcfe733ea1",
        "colab": {
          "base_uri": "https://localhost:8080/"
        },
        "id": "vOvH4F8YaRq4"
      },
      "execution_count": 58,
      "outputs": [
        {
          "output_type": "execute_result",
          "data": {
            "text/plain": [
              "0.3071114399203544"
            ]
          },
          "metadata": {},
          "execution_count": 58
        }
      ]
    },
    {
      "cell_type": "markdown",
      "source": [
        "#### Position x and distance from center"
      ],
      "metadata": {
        "id": "d8wbNVNhWxLO"
      }
    },
    {
      "cell_type": "code",
      "source": [
        "model_variables = ['x', 'dist_c']\n",
        "model=''\n",
        "for v in model_variables[:-1]:\n",
        "    model = model  + v + ' + '\n",
        "model = model + model_variables[-1]\n",
        "\n",
        "#Fit the model\n",
        "test_model_4 = smf.glm(formula=\"goal ~ \" + model, data=shot_data, family=sm.families.Binomial()).fit()\n",
        "print(test_model_4.summary())"
      ],
      "metadata": {
        "id": "jBsFaJEqWwdm",
        "outputId": "9dc43316-f396-4b52-c6b7-fe5ebd68b5b6",
        "colab": {
          "base_uri": "https://localhost:8080/"
        }
      },
      "execution_count": 59,
      "outputs": [
        {
          "output_type": "stream",
          "name": "stdout",
          "text": [
            "                 Generalized Linear Model Regression Results                  \n",
            "==============================================================================\n",
            "Dep. Variable:                   goal   No. Observations:                 5989\n",
            "Model:                            GLM   Df Residuals:                     5986\n",
            "Model Family:                Binomial   Df Model:                            2\n",
            "Link Function:                  logit   Scale:                          1.0000\n",
            "Method:                          IRLS   Log-Likelihood:                -2070.8\n",
            "Date:                Thu, 21 Apr 2022   Deviance:                       4141.6\n",
            "Time:                        18:41:08   Pearson chi2:                 4.94e+04\n",
            "No. Iterations:                     8                                         \n",
            "Covariance Type:            nonrobust                                         \n",
            "==============================================================================\n",
            "                 coef    std err          z      P>|z|      [0.025      0.975]\n",
            "------------------------------------------------------------------------------\n",
            "Intercept      3.1288      0.113     27.598      0.000       2.907       3.351\n",
            "x             -0.1774      0.007    -25.092      0.000      -0.191      -0.164\n",
            "dist_c        -0.1736      0.008    -22.128      0.000      -0.189      -0.158\n",
            "==============================================================================\n"
          ]
        }
      ]
    },
    {
      "cell_type": "code",
      "source": [
        "#Mcfaddens Rsquared for Logistic regression\n",
        "null_model = smf.glm(formula=\"goal ~ 1 \", data=shot_data, family=sm.families.Binomial()).fit()\n",
        "1-test_model_4.llf/null_model.llf"
      ],
      "metadata": {
        "outputId": "b36e3edc-ebd7-440d-f582-a64f4b35afe3",
        "colab": {
          "base_uri": "https://localhost:8080/"
        },
        "id": "eKcNPCIjbL_5"
      },
      "execution_count": 60,
      "outputs": [
        {
          "output_type": "execute_result",
          "data": {
            "text/plain": [
              "0.42306443269258165"
            ]
          },
          "metadata": {},
          "execution_count": 60
        }
      ]
    },
    {
      "cell_type": "markdown",
      "source": [
        "#### Angle"
      ],
      "metadata": {
        "id": "2wKSDVsBW4X_"
      }
    },
    {
      "cell_type": "code",
      "source": [
        "model_variables = ['angle']\n",
        "model=''\n",
        "for v in model_variables[:-1]:\n",
        "    model = model  + v + ' + '\n",
        "model = model + model_variables[-1]\n",
        "\n",
        "#Fit the model\n",
        "test_model_5 = smf.glm(formula=\"goal ~ \" + model, data=shot_data, family=sm.families.Binomial()).fit()\n",
        "print(test_model_5.summary())"
      ],
      "metadata": {
        "id": "h90NVNnBW6Tv",
        "outputId": "7232a97e-4f06-4bbe-a53b-faf5bbf94a63",
        "colab": {
          "base_uri": "https://localhost:8080/"
        }
      },
      "execution_count": 61,
      "outputs": [
        {
          "output_type": "stream",
          "name": "stdout",
          "text": [
            "                 Generalized Linear Model Regression Results                  \n",
            "==============================================================================\n",
            "Dep. Variable:                   goal   No. Observations:                 5989\n",
            "Model:                            GLM   Df Residuals:                     5987\n",
            "Model Family:                Binomial   Df Model:                            1\n",
            "Link Function:                  logit   Scale:                          1.0000\n",
            "Method:                          IRLS   Log-Likelihood:                -2280.6\n",
            "Date:                Thu, 21 Apr 2022   Deviance:                       4561.2\n",
            "Time:                        18:41:47   Pearson chi2:                 1.00e+04\n",
            "No. Iterations:                     6                                         \n",
            "Covariance Type:            nonrobust                                         \n",
            "==============================================================================\n",
            "                 coef    std err          z      P>|z|      [0.025      0.975]\n",
            "------------------------------------------------------------------------------\n",
            "Intercept     -4.2053      0.100    -42.041      0.000      -4.401      -4.009\n",
            "angle          4.6087      0.120     38.304      0.000       4.373       4.844\n",
            "==============================================================================\n"
          ]
        }
      ]
    },
    {
      "cell_type": "code",
      "source": [
        "#Mcfaddens Rsquared for Logistic regression\n",
        "null_model = smf.glm(formula=\"goal ~ 1 \", data=shot_data, family=sm.families.Binomial()).fit()\n",
        "1-test_model_5.llf/null_model.llf"
      ],
      "metadata": {
        "outputId": "b7a47db8-7b2e-44d2-abb5-b20b15ea4886",
        "colab": {
          "base_uri": "https://localhost:8080/"
        },
        "id": "47sk38v3bQrB"
      },
      "execution_count": 62,
      "outputs": [
        {
          "output_type": "execute_result",
          "data": {
            "text/plain": [
              "0.3646056369323919"
            ]
          },
          "metadata": {},
          "execution_count": 62
        }
      ]
    },
    {
      "cell_type": "markdown",
      "source": [
        "#### Angle, players nearby"
      ],
      "metadata": {
        "id": "swrRNlc1W-Mp"
      }
    },
    {
      "cell_type": "code",
      "source": [
        "model_variables = ['angle', 'players_in_between']\n",
        "model=''\n",
        "for v in model_variables[:-1]:\n",
        "    model = model  + v + ' + '\n",
        "model = model + model_variables[-1]\n",
        "\n",
        "#Fit the model\n",
        "test_model_6 = smf.glm(formula=\"goal ~ \" + model, data=shot_data, family=sm.families.Binomial()).fit()\n",
        "print(test_model_6.summary())"
      ],
      "metadata": {
        "id": "rxIcXh_PXERZ",
        "outputId": "b91e60a0-d793-40e8-c813-e5c92f4abe05",
        "colab": {
          "base_uri": "https://localhost:8080/"
        }
      },
      "execution_count": 64,
      "outputs": [
        {
          "output_type": "stream",
          "name": "stdout",
          "text": [
            "                 Generalized Linear Model Regression Results                  \n",
            "==============================================================================\n",
            "Dep. Variable:                   goal   No. Observations:                 5989\n",
            "Model:                            GLM   Df Residuals:                     5986\n",
            "Model Family:                Binomial   Df Model:                            2\n",
            "Link Function:                  logit   Scale:                          1.0000\n",
            "Method:                          IRLS   Log-Likelihood:                -2032.5\n",
            "Date:                Thu, 21 Apr 2022   Deviance:                       4065.0\n",
            "Time:                        18:42:15   Pearson chi2:                 1.67e+04\n",
            "No. Iterations:                     6                                         \n",
            "Covariance Type:            nonrobust                                         \n",
            "======================================================================================\n",
            "                         coef    std err          z      P>|z|      [0.025      0.975]\n",
            "--------------------------------------------------------------------------------------\n",
            "Intercept             -2.1754      0.132    -16.458      0.000      -2.434      -1.916\n",
            "angle                  5.1129      0.132     38.732      0.000       4.854       5.372\n",
            "players_in_between    -0.8482      0.045    -18.909      0.000      -0.936      -0.760\n",
            "======================================================================================\n"
          ]
        }
      ]
    },
    {
      "cell_type": "code",
      "source": [
        "#Mcfaddens Rsquared for Logistic regression\n",
        "null_model = smf.glm(formula=\"goal ~ 1 \", data=shot_data, family=sm.families.Binomial()).fit()\n",
        "1-test_model_6.llf/null_model.llf"
      ],
      "metadata": {
        "outputId": "55500ae4-57da-456a-daae-ce178ea069cc",
        "colab": {
          "base_uri": "https://localhost:8080/"
        },
        "id": "6KfMciBnbW-D"
      },
      "execution_count": 65,
      "outputs": [
        {
          "output_type": "execute_result",
          "data": {
            "text/plain": [
              "0.43373511712200963"
            ]
          },
          "metadata": {},
          "execution_count": 65
        }
      ]
    },
    {
      "cell_type": "markdown",
      "source": [
        "#### Combined positions and distances"
      ],
      "metadata": {
        "id": "10sGTw5QXMpS"
      }
    },
    {
      "cell_type": "code",
      "source": [
        "model_variables = ['x', 'y', 'dist_c', 'distance', 'distance_sqrd']\n",
        "model=''\n",
        "for v in model_variables[:-1]:\n",
        "    model = model  + v + ' + '\n",
        "model = model + model_variables[-1]\n",
        "\n",
        "#Fit the model\n",
        "test_model_7 = smf.glm(formula=\"goal ~ \" + model, data=shot_data, family=sm.families.Binomial()).fit()\n",
        "print(test_model_7.summary())"
      ],
      "metadata": {
        "id": "6vpkk8JhXOD2",
        "outputId": "7e142977-ea90-4fb8-8f29-e2edd4c59dbe",
        "colab": {
          "base_uri": "https://localhost:8080/"
        }
      },
      "execution_count": 66,
      "outputs": [
        {
          "output_type": "stream",
          "name": "stdout",
          "text": [
            "                 Generalized Linear Model Regression Results                  \n",
            "==============================================================================\n",
            "Dep. Variable:                   goal   No. Observations:                 5989\n",
            "Model:                            GLM   Df Residuals:                     5983\n",
            "Model Family:                Binomial   Df Model:                            5\n",
            "Link Function:                  logit   Scale:                          1.0000\n",
            "Method:                          IRLS   Log-Likelihood:                -1982.8\n",
            "Date:                Thu, 21 Apr 2022   Deviance:                       3965.7\n",
            "Time:                        18:42:41   Pearson chi2:                 1.03e+04\n",
            "No. Iterations:                     9                                         \n",
            "Covariance Type:            nonrobust                                         \n",
            "=================================================================================\n",
            "                    coef    std err          z      P>|z|      [0.025      0.975]\n",
            "---------------------------------------------------------------------------------\n",
            "Intercept         3.8107      0.282     13.526      0.000       3.259       4.363\n",
            "x                 0.2015      0.033      6.082      0.000       0.137       0.266\n",
            "y                 0.0062      0.005      1.281      0.200      -0.003       0.016\n",
            "dist_c            0.0995      0.024      4.222      0.000       0.053       0.146\n",
            "distance         -0.5256      0.045    -11.578      0.000      -0.615      -0.437\n",
            "distance_sqrd     0.0018      0.001      3.067      0.002       0.001       0.003\n",
            "=================================================================================\n"
          ]
        }
      ]
    },
    {
      "cell_type": "code",
      "source": [
        "#Mcfaddens Rsquared for Logistic regression\n",
        "null_model = smf.glm(formula=\"goal ~ 1 \", data=shot_data, family=sm.families.Binomial()).fit()\n",
        "1-test_model_7.llf/null_model.llf"
      ],
      "metadata": {
        "outputId": "defdb171-1e5a-4ee1-99b9-65ee48904e20",
        "colab": {
          "base_uri": "https://localhost:8080/"
        },
        "id": "MUTjE3HLbd0T"
      },
      "execution_count": 67,
      "outputs": [
        {
          "output_type": "execute_result",
          "data": {
            "text/plain": [
              "0.44756648835817936"
            ]
          },
          "metadata": {},
          "execution_count": 67
        }
      ]
    },
    {
      "cell_type": "markdown",
      "source": [
        "#### Distance, positions, angle and players nearby"
      ],
      "metadata": {
        "id": "0h6qHzcJXf-C"
      }
    },
    {
      "cell_type": "code",
      "source": [
        "model_variables = ['x', 'dist_c', 'distance', 'angle', 'players_in_between']\n",
        "model=''\n",
        "for v in model_variables[:-1]:\n",
        "    model = model  + v + ' + '\n",
        "model = model + model_variables[-1]\n",
        "\n",
        "#Fit the model\n",
        "test_model_8 = smf.glm(formula=\"goal ~ \" + model, data=shot_data, family=sm.families.Binomial()).fit()\n",
        "print(test_model_8.summary())"
      ],
      "metadata": {
        "colab": {
          "base_uri": "https://localhost:8080/"
        },
        "id": "4AyEjzDyXfc-",
        "outputId": "112dfe59-c04b-4945-d878-2ef41b5746ee"
      },
      "execution_count": 68,
      "outputs": [
        {
          "output_type": "stream",
          "name": "stdout",
          "text": [
            "                 Generalized Linear Model Regression Results                  \n",
            "==============================================================================\n",
            "Dep. Variable:                   goal   No. Observations:                 5989\n",
            "Model:                            GLM   Df Residuals:                     5983\n",
            "Model Family:                Binomial   Df Model:                            5\n",
            "Link Function:                  logit   Scale:                          1.0000\n",
            "Method:                          IRLS   Log-Likelihood:                -1801.2\n",
            "Date:                Thu, 21 Apr 2022   Deviance:                       3602.4\n",
            "Time:                        18:43:21   Pearson chi2:                 4.13e+04\n",
            "No. Iterations:                     9                                         \n",
            "Covariance Type:            nonrobust                                         \n",
            "======================================================================================\n",
            "                         coef    std err          z      P>|z|      [0.025      0.975]\n",
            "--------------------------------------------------------------------------------------\n",
            "Intercept              5.4731      0.510     10.731      0.000       4.473       6.473\n",
            "x                      0.3444      0.045      7.694      0.000       0.257       0.432\n",
            "dist_c                 0.1637      0.027      6.133      0.000       0.111       0.216\n",
            "distance              -0.6080      0.060    -10.115      0.000      -0.726      -0.490\n",
            "angle                  0.0804      0.306      0.263      0.793      -0.519       0.680\n",
            "players_in_between    -0.6917      0.042    -16.453      0.000      -0.774      -0.609\n",
            "======================================================================================\n"
          ]
        }
      ]
    },
    {
      "cell_type": "code",
      "source": [
        "#Mcfaddens Rsquared for Logistic regression\n",
        "null_model = smf.glm(formula=\"goal ~ 1 \", data=shot_data, family=sm.families.Binomial()).fit()\n",
        "1-test_model_8.llf/null_model.llf"
      ],
      "metadata": {
        "outputId": "49ace069-4ec9-4fb4-b1d3-93633e15175e",
        "colab": {
          "base_uri": "https://localhost:8080/"
        },
        "id": "6gSsa-Y3bnSm"
      },
      "execution_count": 69,
      "outputs": [
        {
          "output_type": "execute_result",
          "data": {
            "text/plain": [
              "0.49818026806739457"
            ]
          },
          "metadata": {},
          "execution_count": 69
        }
      ]
    },
    {
      "cell_type": "markdown",
      "source": [
        "#### Distance, positions, and players nearby"
      ],
      "metadata": {
        "id": "LcebNSO4b_Zp"
      }
    },
    {
      "cell_type": "code",
      "source": [
        "model_variables = ['x', 'dist_c', 'distance', 'players_in_between']\n",
        "model=''\n",
        "for v in model_variables[:-1]:\n",
        "    model = model  + v + ' + '\n",
        "model = model + model_variables[-1]\n",
        "\n",
        "#Fit the model\n",
        "test_model_9 = smf.glm(formula=\"goal ~ \" + model, data=shot_data, family=sm.families.Binomial()).fit()\n",
        "print(test_model_9.summary())"
      ],
      "metadata": {
        "outputId": "6dd6a0b6-d8f3-42a3-e23b-ef4e134b46c5",
        "colab": {
          "base_uri": "https://localhost:8080/"
        },
        "id": "dU259WbDb_Zw"
      },
      "execution_count": 72,
      "outputs": [
        {
          "output_type": "stream",
          "name": "stdout",
          "text": [
            "                 Generalized Linear Model Regression Results                  \n",
            "==============================================================================\n",
            "Dep. Variable:                   goal   No. Observations:                 5989\n",
            "Model:                            GLM   Df Residuals:                     5984\n",
            "Model Family:                Binomial   Df Model:                            4\n",
            "Link Function:                  logit   Scale:                          1.0000\n",
            "Method:                          IRLS   Log-Likelihood:                -1801.2\n",
            "Date:                Thu, 21 Apr 2022   Deviance:                       3602.4\n",
            "Time:                        18:45:23   Pearson chi2:                 4.48e+04\n",
            "No. Iterations:                     8                                         \n",
            "Covariance Type:            nonrobust                                         \n",
            "======================================================================================\n",
            "                         coef    std err          z      P>|z|      [0.025      0.975]\n",
            "--------------------------------------------------------------------------------------\n",
            "Intercept              5.5979      0.191     29.316      0.000       5.224       5.972\n",
            "x                      0.3513      0.036      9.722      0.000       0.281       0.422\n",
            "dist_c                 0.1658      0.025      6.514      0.000       0.116       0.216\n",
            "distance              -0.6190      0.043    -14.273      0.000      -0.704      -0.534\n",
            "players_in_between    -0.6895      0.041    -16.784      0.000      -0.770      -0.609\n",
            "======================================================================================\n"
          ]
        }
      ]
    },
    {
      "cell_type": "code",
      "source": [
        "#Mcfaddens Rsquared for Logistic regression\n",
        "null_model = smf.glm(formula=\"goal ~ 1 \", data=shot_data, family=sm.families.Binomial()).fit()\n",
        "1-test_model_9.llf/null_model.llf"
      ],
      "metadata": {
        "outputId": "da7c3167-2803-4ac6-8422-a610a0b222d2",
        "colab": {
          "base_uri": "https://localhost:8080/"
        },
        "id": "5h3o9Yxhb_Zw"
      },
      "execution_count": 73,
      "outputs": [
        {
          "output_type": "execute_result",
          "data": {
            "text/plain": [
              "0.49817063864597366"
            ]
          },
          "metadata": {},
          "execution_count": 73
        }
      ]
    },
    {
      "cell_type": "markdown",
      "source": [
        "#### Distance, position, angle and players nearby"
      ],
      "metadata": {
        "id": "-4KkJNkRYmtx"
      }
    },
    {
      "cell_type": "code",
      "source": [
        "model_variables = ['distance', 'angle', 'players_in_between']\n",
        "model=''\n",
        "for v in model_variables[:-1]:\n",
        "    model = model  + v + ' + '\n",
        "model = model + model_variables[-1]\n",
        "\n",
        "#Fit the model\n",
        "test_model_10 = smf.glm(formula=\"goal ~ \" + model, data=shot_data, family=sm.families.Binomial()).fit()\n",
        "print(test_model_10.summary())"
      ],
      "metadata": {
        "colab": {
          "base_uri": "https://localhost:8080/"
        },
        "id": "oT3bkRmpYqKR",
        "outputId": "110b14da-b08f-47c7-a5b9-0649a4a3da72"
      },
      "execution_count": 75,
      "outputs": [
        {
          "output_type": "stream",
          "name": "stdout",
          "text": [
            "                 Generalized Linear Model Regression Results                  \n",
            "==============================================================================\n",
            "Dep. Variable:                   goal   No. Observations:                 5989\n",
            "Model:                            GLM   Df Residuals:                     5985\n",
            "Model Family:                Binomial   Df Model:                            3\n",
            "Link Function:                  logit   Scale:                          1.0000\n",
            "Method:                          IRLS   Log-Likelihood:                -1840.0\n",
            "Date:                Thu, 21 Apr 2022   Deviance:                       3680.1\n",
            "Time:                        18:46:23   Pearson chi2:                 1.41e+04\n",
            "No. Iterations:                     8                                         \n",
            "Covariance Type:            nonrobust                                         \n",
            "======================================================================================\n",
            "                         coef    std err          z      P>|z|      [0.025      0.975]\n",
            "--------------------------------------------------------------------------------------\n",
            "Intercept              2.6786      0.298      8.986      0.000       2.094       3.263\n",
            "distance              -0.1645      0.011    -14.790      0.000      -0.186      -0.143\n",
            "angle                  1.7883      0.202      8.847      0.000       1.392       2.184\n",
            "players_in_between    -0.6714      0.042    -15.821      0.000      -0.755      -0.588\n",
            "======================================================================================\n"
          ]
        }
      ]
    },
    {
      "cell_type": "code",
      "source": [
        "#Mcfaddens Rsquared for Logistic regression\n",
        "null_model = smf.glm(formula=\"goal ~ 1 \", data=shot_data, family=sm.families.Binomial()).fit()\n",
        "1-test_model_10.llf/null_model.llf"
      ],
      "metadata": {
        "outputId": "c9b77c8f-4622-4a1b-8fca-6c03551010e4",
        "colab": {
          "base_uri": "https://localhost:8080/"
        },
        "id": "ZSOSTp78bxNm"
      },
      "execution_count": 76,
      "outputs": [
        {
          "output_type": "execute_result",
          "data": {
            "text/plain": [
              "0.4873548492904851"
            ]
          },
          "metadata": {},
          "execution_count": 76
        }
      ]
    },
    {
      "cell_type": "markdown",
      "source": [
        "#### Distance, angle, distance from center and players nearby"
      ],
      "metadata": {
        "id": "Drabn3pVcU3k"
      }
    },
    {
      "cell_type": "code",
      "source": [
        "model_variables = ['dist_c', 'distance', 'angle', 'players_in_between']\n",
        "model=''\n",
        "for v in model_variables[:-1]:\n",
        "    model = model  + v + ' + '\n",
        "model = model + model_variables[-1]\n",
        "\n",
        "#Fit the model\n",
        "test_model_11 = smf.glm(formula=\"goal ~ \" + model, data=shot_data, family=sm.families.Binomial()).fit()\n",
        "print(test_model_11.summary())"
      ],
      "metadata": {
        "outputId": "c188f442-9999-46cf-8a07-031e6f93d4c6",
        "colab": {
          "base_uri": "https://localhost:8080/"
        },
        "id": "PlX9qmizcbj9"
      },
      "execution_count": 83,
      "outputs": [
        {
          "output_type": "stream",
          "name": "stdout",
          "text": [
            "                 Generalized Linear Model Regression Results                  \n",
            "==============================================================================\n",
            "Dep. Variable:                   goal   No. Observations:                 5989\n",
            "Model:                            GLM   Df Residuals:                     5984\n",
            "Model Family:                Binomial   Df Model:                            4\n",
            "Link Function:                  logit   Scale:                          1.0000\n",
            "Method:                          IRLS   Log-Likelihood:                -1837.2\n",
            "Date:                Thu, 21 Apr 2022   Deviance:                       3674.4\n",
            "Time:                        18:51:26   Pearson chi2:                 1.74e+04\n",
            "No. Iterations:                     8                                         \n",
            "Covariance Type:            nonrobust                                         \n",
            "======================================================================================\n",
            "                         coef    std err          z      P>|z|      [0.025      0.975]\n",
            "--------------------------------------------------------------------------------------\n",
            "Intercept              3.1530      0.365      8.632      0.000       2.437       3.869\n",
            "dist_c                -0.0268      0.011     -2.359      0.018      -0.049      -0.005\n",
            "distance              -0.1655      0.011    -14.530      0.000      -0.188      -0.143\n",
            "angle                  1.4619      0.245      5.979      0.000       0.983       1.941\n",
            "players_in_between    -0.6701      0.042    -15.855      0.000      -0.753      -0.587\n",
            "======================================================================================\n"
          ]
        }
      ]
    },
    {
      "cell_type": "code",
      "source": [
        "#Mcfaddens Rsquared for Logistic regression\n",
        "null_model = smf.glm(formula=\"goal ~ 1 \", data=shot_data, family=sm.families.Binomial()).fit()\n",
        "1-test_model_11.llf/null_model.llf"
      ],
      "metadata": {
        "outputId": "ce69329b-7bc8-4f23-d5e9-4b9e1ac573e3",
        "colab": {
          "base_uri": "https://localhost:8080/"
        },
        "id": "SfPWfzi5cbj-"
      },
      "execution_count": 84,
      "outputs": [
        {
          "output_type": "execute_result",
          "data": {
            "text/plain": [
              "0.4881449018513748"
            ]
          },
          "metadata": {},
          "execution_count": 84
        }
      ]
    },
    {
      "cell_type": "markdown",
      "source": [
        "#### Distance, angle, x position and players nearby"
      ],
      "metadata": {
        "id": "dMCH8Ra8dSlt"
      }
    },
    {
      "cell_type": "code",
      "source": [
        "model_variables = ['distance', 'angle', 'players_in_between', 'x']\n",
        "model=''\n",
        "for v in model_variables[:-1]:\n",
        "    model = model  + v + ' + '\n",
        "model = model + model_variables[-1]\n",
        "\n",
        "#Fit the model\n",
        "test_model_12 = smf.glm(formula=\"goal ~ \" + model, data=shot_data, family=sm.families.Binomial()).fit()\n",
        "print(test_model_12.summary())"
      ],
      "metadata": {
        "outputId": "697502eb-4eb3-4e2b-97cc-428787568883",
        "colab": {
          "base_uri": "https://localhost:8080/"
        },
        "id": "VmG_T17idSl0"
      },
      "execution_count": 95,
      "outputs": [
        {
          "output_type": "stream",
          "name": "stdout",
          "text": [
            "                 Generalized Linear Model Regression Results                  \n",
            "==============================================================================\n",
            "Dep. Variable:                   goal   No. Observations:                 5989\n",
            "Model:                            GLM   Df Residuals:                     5984\n",
            "Model Family:                Binomial   Df Model:                            4\n",
            "Link Function:                  logit   Scale:                          1.0000\n",
            "Method:                          IRLS   Log-Likelihood:                -1821.4\n",
            "Date:                Thu, 21 Apr 2022   Deviance:                       3642.8\n",
            "Time:                        18:53:35   Pearson chi2:                 3.42e+04\n",
            "No. Iterations:                     8                                         \n",
            "Covariance Type:            nonrobust                                         \n",
            "======================================================================================\n",
            "                         coef    std err          z      P>|z|      [0.025      0.975]\n",
            "--------------------------------------------------------------------------------------\n",
            "Intercept              4.5347      0.460      9.859      0.000       3.633       5.436\n",
            "distance              -0.3105      0.030    -10.414      0.000      -0.369      -0.252\n",
            "angle                  0.5918      0.287      2.062      0.039       0.029       1.154\n",
            "players_in_between    -0.6754      0.042    -16.100      0.000      -0.758      -0.593\n",
            "x                      0.1107      0.020      5.625      0.000       0.072       0.149\n",
            "======================================================================================\n"
          ]
        }
      ]
    },
    {
      "cell_type": "code",
      "source": [
        "#Mcfaddens Rsquared for Logistic regression\n",
        "null_model = smf.glm(formula=\"goal ~ 1 \", data=shot_data, family=sm.families.Binomial()).fit()\n",
        "1-test_model_12.llf/null_model.llf"
      ],
      "metadata": {
        "outputId": "00971fe5-fb4f-4c32-98d0-ace6e5ab67f0",
        "colab": {
          "base_uri": "https://localhost:8080/"
        },
        "id": "L8t6X9vjdSl0"
      },
      "execution_count": 96,
      "outputs": [
        {
          "output_type": "execute_result",
          "data": {
            "text/plain": [
              "0.49254164581590243"
            ]
          },
          "metadata": {},
          "execution_count": 96
        }
      ]
    },
    {
      "cell_type": "markdown",
      "source": [
        "### Chosen model"
      ],
      "metadata": {
        "id": "_T0Y1sjTcyPQ"
      }
    },
    {
      "cell_type": "markdown",
      "metadata": {
        "id": "NPgJFS21OC0x"
      },
      "source": [
        "After analyzing the dataset and building many models, we decided to use the model based on the variables x position, angle, distance, and players between the shooter and the goal because those variables were among the best when it comes to fitting the data and the 4 were statistically significant."
      ]
    },
    {
      "cell_type": "code",
      "execution_count": 97,
      "metadata": {
        "colab": {
          "base_uri": "https://localhost:8080/"
        },
        "id": "ANs_sTTdoxK4",
        "outputId": "f8daf812-b76e-4c08-d302-52350c5fdc8e"
      },
      "outputs": [
        {
          "output_type": "stream",
          "name": "stdout",
          "text": [
            "                 Generalized Linear Model Regression Results                  \n",
            "==============================================================================\n",
            "Dep. Variable:                   goal   No. Observations:                 5989\n",
            "Model:                            GLM   Df Residuals:                     5984\n",
            "Model Family:                Binomial   Df Model:                            4\n",
            "Link Function:                  logit   Scale:                          1.0000\n",
            "Method:                          IRLS   Log-Likelihood:                -1821.4\n",
            "Date:                Thu, 21 Apr 2022   Deviance:                       3642.8\n",
            "Time:                        18:55:06   Pearson chi2:                 3.42e+04\n",
            "No. Iterations:                     8                                         \n",
            "Covariance Type:            nonrobust                                         \n",
            "======================================================================================\n",
            "                         coef    std err          z      P>|z|      [0.025      0.975]\n",
            "--------------------------------------------------------------------------------------\n",
            "Intercept              4.5347      0.460      9.859      0.000       3.633       5.436\n",
            "distance              -0.3105      0.030    -10.414      0.000      -0.369      -0.252\n",
            "angle                  0.5918      0.287      2.062      0.039       0.029       1.154\n",
            "players_in_between    -0.6754      0.042    -16.100      0.000      -0.758      -0.593\n",
            "x                      0.1107      0.020      5.625      0.000       0.072       0.149\n",
            "======================================================================================\n"
          ]
        }
      ],
      "source": [
        "model = test_model_12\n",
        "print(model.summary())\n",
        "model_params=model.params"
      ]
    },
    {
      "cell_type": "code",
      "execution_count": 98,
      "metadata": {
        "colab": {
          "base_uri": "https://localhost:8080/"
        },
        "id": "Yo4o_xtqo2F_",
        "outputId": "2c1f0038-e80e-4237-a331-962212cb06c7"
      },
      "outputs": [
        {
          "output_type": "execute_result",
          "data": {
            "text/plain": [
              "Intercept             4.534684\n",
              "distance             -0.310514\n",
              "angle                 0.591834\n",
              "players_in_between   -0.675362\n",
              "x                     0.110713\n",
              "dtype: float64"
            ]
          },
          "metadata": {},
          "execution_count": 98
        }
      ],
      "source": [
        "model_params"
      ]
    },
    {
      "cell_type": "markdown",
      "metadata": {
        "id": "6RiJ8s4AOC00"
      },
      "source": [
        "Useful function to return xG from model"
      ]
    },
    {
      "cell_type": "code",
      "execution_count": 106,
      "metadata": {
        "id": "8fee_M4aoymj"
      },
      "outputs": [],
      "source": [
        "def calculate_xG(sh): \n",
        "   bsum=-model_params[0]\n",
        "   for i,v in enumerate(model_variables):\n",
        "       bsum=bsum-model_params[i+1]*sh[v]\n",
        "   xG = 1/(1+np.exp(bsum))\n",
        "   return xG   "
      ]
    },
    {
      "cell_type": "code",
      "execution_count": 107,
      "metadata": {
        "colab": {
          "base_uri": "https://localhost:8080/",
          "height": 655
        },
        "id": "oQYMJ6pRqMpM",
        "outputId": "1be8d16e-4c6a-43bc-8f4b-183851708f5d"
      },
      "outputs": [
        {
          "output_type": "execute_result",
          "data": {
            "text/plain": [
              "            x        y   distance     angle  players_in_between  goal  \\\n",
              "0     52.1661  29.6488  52.347253  0.265364                   5     0   \n",
              "1     20.1485  21.3749  23.777199  0.500704                   3     0   \n",
              "2     14.3825  24.8187  17.063194  0.694654                   2     1   \n",
              "3     42.2679   4.5545  51.513230  0.223721                   4     0   \n",
              "4     41.3071   5.7849  50.023678  0.231823                   3     0   \n",
              "...       ...      ...        ...       ...                 ...   ...   \n",
              "5984  35.3460  11.5714  41.861460  0.283130                   2     0   \n",
              "5985  18.6453  24.9418  20.729163  0.601883                   9     0   \n",
              "5986  45.6519   3.0709  55.142590  0.210771                   2     0   \n",
              "5987  50.2435  29.7878  50.419757  0.275377                   2     0   \n",
              "5988  47.4583  37.4721  47.585142  0.291790                   3     0   \n",
              "\n",
              "      distance_sqrd   dist_c        xG  \n",
              "0       2740.234931   4.3512  0.000105  \n",
              "1        565.355202  12.6251  0.087263  \n",
              "2        291.152576   9.1813  0.472290  \n",
              "3       2653.612841  29.4455  0.000087  \n",
              "4       2502.368378  28.2151  0.000245  \n",
              "...             ...      ...       ...  \n",
              "5984    1752.381814  22.4286  0.003224  \n",
              "5985     429.698199   9.0582  0.003835  \n",
              "5986    3040.705200  30.9291  0.000157  \n",
              "5987    2542.151921   4.2122  0.001174  \n",
              "5988    2264.345717   3.4721  0.001069  \n",
              "\n",
              "[5989 rows x 9 columns]"
            ],
            "text/html": [
              "\n",
              "  <div id=\"df-1166c955-cd42-4ae3-bb58-f5fee7704ed6\">\n",
              "    <div class=\"colab-df-container\">\n",
              "      <div>\n",
              "<style scoped>\n",
              "    .dataframe tbody tr th:only-of-type {\n",
              "        vertical-align: middle;\n",
              "    }\n",
              "\n",
              "    .dataframe tbody tr th {\n",
              "        vertical-align: top;\n",
              "    }\n",
              "\n",
              "    .dataframe thead th {\n",
              "        text-align: right;\n",
              "    }\n",
              "</style>\n",
              "<table border=\"1\" class=\"dataframe\">\n",
              "  <thead>\n",
              "    <tr style=\"text-align: right;\">\n",
              "      <th></th>\n",
              "      <th>x</th>\n",
              "      <th>y</th>\n",
              "      <th>distance</th>\n",
              "      <th>angle</th>\n",
              "      <th>players_in_between</th>\n",
              "      <th>goal</th>\n",
              "      <th>distance_sqrd</th>\n",
              "      <th>dist_c</th>\n",
              "      <th>xG</th>\n",
              "    </tr>\n",
              "  </thead>\n",
              "  <tbody>\n",
              "    <tr>\n",
              "      <th>0</th>\n",
              "      <td>52.1661</td>\n",
              "      <td>29.6488</td>\n",
              "      <td>52.347253</td>\n",
              "      <td>0.265364</td>\n",
              "      <td>5</td>\n",
              "      <td>0</td>\n",
              "      <td>2740.234931</td>\n",
              "      <td>4.3512</td>\n",
              "      <td>0.000105</td>\n",
              "    </tr>\n",
              "    <tr>\n",
              "      <th>1</th>\n",
              "      <td>20.1485</td>\n",
              "      <td>21.3749</td>\n",
              "      <td>23.777199</td>\n",
              "      <td>0.500704</td>\n",
              "      <td>3</td>\n",
              "      <td>0</td>\n",
              "      <td>565.355202</td>\n",
              "      <td>12.6251</td>\n",
              "      <td>0.087263</td>\n",
              "    </tr>\n",
              "    <tr>\n",
              "      <th>2</th>\n",
              "      <td>14.3825</td>\n",
              "      <td>24.8187</td>\n",
              "      <td>17.063194</td>\n",
              "      <td>0.694654</td>\n",
              "      <td>2</td>\n",
              "      <td>1</td>\n",
              "      <td>291.152576</td>\n",
              "      <td>9.1813</td>\n",
              "      <td>0.472290</td>\n",
              "    </tr>\n",
              "    <tr>\n",
              "      <th>3</th>\n",
              "      <td>42.2679</td>\n",
              "      <td>4.5545</td>\n",
              "      <td>51.513230</td>\n",
              "      <td>0.223721</td>\n",
              "      <td>4</td>\n",
              "      <td>0</td>\n",
              "      <td>2653.612841</td>\n",
              "      <td>29.4455</td>\n",
              "      <td>0.000087</td>\n",
              "    </tr>\n",
              "    <tr>\n",
              "      <th>4</th>\n",
              "      <td>41.3071</td>\n",
              "      <td>5.7849</td>\n",
              "      <td>50.023678</td>\n",
              "      <td>0.231823</td>\n",
              "      <td>3</td>\n",
              "      <td>0</td>\n",
              "      <td>2502.368378</td>\n",
              "      <td>28.2151</td>\n",
              "      <td>0.000245</td>\n",
              "    </tr>\n",
              "    <tr>\n",
              "      <th>...</th>\n",
              "      <td>...</td>\n",
              "      <td>...</td>\n",
              "      <td>...</td>\n",
              "      <td>...</td>\n",
              "      <td>...</td>\n",
              "      <td>...</td>\n",
              "      <td>...</td>\n",
              "      <td>...</td>\n",
              "      <td>...</td>\n",
              "    </tr>\n",
              "    <tr>\n",
              "      <th>5984</th>\n",
              "      <td>35.3460</td>\n",
              "      <td>11.5714</td>\n",
              "      <td>41.861460</td>\n",
              "      <td>0.283130</td>\n",
              "      <td>2</td>\n",
              "      <td>0</td>\n",
              "      <td>1752.381814</td>\n",
              "      <td>22.4286</td>\n",
              "      <td>0.003224</td>\n",
              "    </tr>\n",
              "    <tr>\n",
              "      <th>5985</th>\n",
              "      <td>18.6453</td>\n",
              "      <td>24.9418</td>\n",
              "      <td>20.729163</td>\n",
              "      <td>0.601883</td>\n",
              "      <td>9</td>\n",
              "      <td>0</td>\n",
              "      <td>429.698199</td>\n",
              "      <td>9.0582</td>\n",
              "      <td>0.003835</td>\n",
              "    </tr>\n",
              "    <tr>\n",
              "      <th>5986</th>\n",
              "      <td>45.6519</td>\n",
              "      <td>3.0709</td>\n",
              "      <td>55.142590</td>\n",
              "      <td>0.210771</td>\n",
              "      <td>2</td>\n",
              "      <td>0</td>\n",
              "      <td>3040.705200</td>\n",
              "      <td>30.9291</td>\n",
              "      <td>0.000157</td>\n",
              "    </tr>\n",
              "    <tr>\n",
              "      <th>5987</th>\n",
              "      <td>50.2435</td>\n",
              "      <td>29.7878</td>\n",
              "      <td>50.419757</td>\n",
              "      <td>0.275377</td>\n",
              "      <td>2</td>\n",
              "      <td>0</td>\n",
              "      <td>2542.151921</td>\n",
              "      <td>4.2122</td>\n",
              "      <td>0.001174</td>\n",
              "    </tr>\n",
              "    <tr>\n",
              "      <th>5988</th>\n",
              "      <td>47.4583</td>\n",
              "      <td>37.4721</td>\n",
              "      <td>47.585142</td>\n",
              "      <td>0.291790</td>\n",
              "      <td>3</td>\n",
              "      <td>0</td>\n",
              "      <td>2264.345717</td>\n",
              "      <td>3.4721</td>\n",
              "      <td>0.001069</td>\n",
              "    </tr>\n",
              "  </tbody>\n",
              "</table>\n",
              "<p>5989 rows × 9 columns</p>\n",
              "</div>\n",
              "      <button class=\"colab-df-convert\" onclick=\"convertToInteractive('df-1166c955-cd42-4ae3-bb58-f5fee7704ed6')\"\n",
              "              title=\"Convert this dataframe to an interactive table.\"\n",
              "              style=\"display:none;\">\n",
              "        \n",
              "  <svg xmlns=\"http://www.w3.org/2000/svg\" height=\"24px\"viewBox=\"0 0 24 24\"\n",
              "       width=\"24px\">\n",
              "    <path d=\"M0 0h24v24H0V0z\" fill=\"none\"/>\n",
              "    <path d=\"M18.56 5.44l.94 2.06.94-2.06 2.06-.94-2.06-.94-.94-2.06-.94 2.06-2.06.94zm-11 1L8.5 8.5l.94-2.06 2.06-.94-2.06-.94L8.5 2.5l-.94 2.06-2.06.94zm10 10l.94 2.06.94-2.06 2.06-.94-2.06-.94-.94-2.06-.94 2.06-2.06.94z\"/><path d=\"M17.41 7.96l-1.37-1.37c-.4-.4-.92-.59-1.43-.59-.52 0-1.04.2-1.43.59L10.3 9.45l-7.72 7.72c-.78.78-.78 2.05 0 2.83L4 21.41c.39.39.9.59 1.41.59.51 0 1.02-.2 1.41-.59l7.78-7.78 2.81-2.81c.8-.78.8-2.07 0-2.86zM5.41 20L4 18.59l7.72-7.72 1.47 1.35L5.41 20z\"/>\n",
              "  </svg>\n",
              "      </button>\n",
              "      \n",
              "  <style>\n",
              "    .colab-df-container {\n",
              "      display:flex;\n",
              "      flex-wrap:wrap;\n",
              "      gap: 12px;\n",
              "    }\n",
              "\n",
              "    .colab-df-convert {\n",
              "      background-color: #E8F0FE;\n",
              "      border: none;\n",
              "      border-radius: 50%;\n",
              "      cursor: pointer;\n",
              "      display: none;\n",
              "      fill: #1967D2;\n",
              "      height: 32px;\n",
              "      padding: 0 0 0 0;\n",
              "      width: 32px;\n",
              "    }\n",
              "\n",
              "    .colab-df-convert:hover {\n",
              "      background-color: #E2EBFA;\n",
              "      box-shadow: 0px 1px 2px rgba(60, 64, 67, 0.3), 0px 1px 3px 1px rgba(60, 64, 67, 0.15);\n",
              "      fill: #174EA6;\n",
              "    }\n",
              "\n",
              "    [theme=dark] .colab-df-convert {\n",
              "      background-color: #3B4455;\n",
              "      fill: #D2E3FC;\n",
              "    }\n",
              "\n",
              "    [theme=dark] .colab-df-convert:hover {\n",
              "      background-color: #434B5C;\n",
              "      box-shadow: 0px 1px 3px 1px rgba(0, 0, 0, 0.15);\n",
              "      filter: drop-shadow(0px 1px 2px rgba(0, 0, 0, 0.3));\n",
              "      fill: #FFFFFF;\n",
              "    }\n",
              "  </style>\n",
              "\n",
              "      <script>\n",
              "        const buttonEl =\n",
              "          document.querySelector('#df-1166c955-cd42-4ae3-bb58-f5fee7704ed6 button.colab-df-convert');\n",
              "        buttonEl.style.display =\n",
              "          google.colab.kernel.accessAllowed ? 'block' : 'none';\n",
              "\n",
              "        async function convertToInteractive(key) {\n",
              "          const element = document.querySelector('#df-1166c955-cd42-4ae3-bb58-f5fee7704ed6');\n",
              "          const dataTable =\n",
              "            await google.colab.kernel.invokeFunction('convertToInteractive',\n",
              "                                                     [key], {});\n",
              "          if (!dataTable) return;\n",
              "\n",
              "          const docLinkHtml = 'Like what you see? Visit the ' +\n",
              "            '<a target=\"_blank\" href=https://colab.research.google.com/notebooks/data_table.ipynb>data table notebook</a>'\n",
              "            + ' to learn more about interactive tables.';\n",
              "          element.innerHTML = '';\n",
              "          dataTable['output_type'] = 'display_data';\n",
              "          await google.colab.output.renderOutput(dataTable, element);\n",
              "          const docLink = document.createElement('div');\n",
              "          docLink.innerHTML = docLinkHtml;\n",
              "          element.appendChild(docLink);\n",
              "        }\n",
              "      </script>\n",
              "    </div>\n",
              "  </div>\n",
              "  "
            ]
          },
          "metadata": {},
          "execution_count": 107
        }
      ],
      "source": [
        "#Add an xG to the dataframe\n",
        "xG=shot_data.apply(calculate_xG, axis=1)\n",
        "shot_data = shot_data.assign(xG=xG)\n",
        "shot_data"
      ]
    },
    {
      "cell_type": "markdown",
      "metadata": {
        "id": "XV4vJttaOC01"
      },
      "source": [
        "Final results: showing xG from position on the pitch!"
      ]
    },
    {
      "cell_type": "code",
      "execution_count": 108,
      "metadata": {
        "colab": {
          "base_uri": "https://localhost:8080/",
          "height": 367
        },
        "id": "dGuzS0RMpBLq",
        "outputId": "0ece4868-7b67-4760-81cc-e446adee704e"
      },
      "outputs": [
        {
          "output_type": "display_data",
          "data": {
            "text/plain": [
              "<Figure size 720x432 with 2 Axes>"
            ],
            "image/png": "[encoded data removed]"
          },
          "metadata": {
            "needs_background": "light"
          }
        }
      ],
      "source": [
        "#Create a 2D map of xG\n",
        "pgoal_2d=np.zeros((52,68))\n",
        "for x in range(52):\n",
        "    for y in range(68):\n",
        "        sh=dict()\n",
        "        a = np.arctan(14.02 *x /(x**2 + abs(y-68/2)**2 - (7.01)**2))\n",
        "        if a<0:\n",
        "            a = np.pi + a\n",
        "        sh['angle'] = a\n",
        "        sh['distance'] = np.sqrt(x**2 + abs(y-68/2)**2)\n",
        "        sh['x']=x\n",
        "        sh['players_in_between'] = 3\n",
        "        \n",
        "        pgoal_2d[x,y] = calculate_xG(sh)\n",
        "\n",
        "(fig,ax) = createGoalMouth()\n",
        "pos=ax.imshow(pgoal_2d, aspect='auto',cmap=plt.cm.OrRd, vmin=0, vmax=0.6)\n",
        "fig.colorbar(pos, ax=ax)\n",
        "ax.set_title('Probability of goal')\n",
        "plt.xlim((-1,69))\n",
        "plt.ylim((-3,40))\n",
        "plt.gca().set_aspect('equal', adjustable='box')\n",
        "plt.show()"
      ]
    },
    {
      "cell_type": "markdown",
      "metadata": {
        "id": "L69J-JL66Mq-"
      },
      "source": [
        "Additionally, we show also the xG contours"
      ]
    },
    {
      "cell_type": "code",
      "source": [
        "import matplotlib.cm as cm\n",
        "import matplotlib.mlab as mlab\n",
        "import matplotlib.ticker as ticker\n",
        "import matplotlib.pyplot as plt"
      ],
      "metadata": {
        "id": "yKITkMg6gT7y"
      },
      "execution_count": 109,
      "outputs": []
    },
    {
      "cell_type": "code",
      "execution_count": 110,
      "metadata": {
        "colab": {
          "base_uri": "https://localhost:8080/",
          "height": 497
        },
        "id": "wjPvx3346PIW",
        "outputId": "15cad76a-0907-4d50-e606-6678f02db659"
      },
      "outputs": [
        {
          "output_type": "display_data",
          "data": {
            "text/plain": [
              "<Figure size 734.4x596.16 with 1 Axes>"
            ],
            "image/png": "[encoded data removed]"
          },
          "metadata": {
            "needs_background": "light"
          }
        }
      ],
      "source": [
        "x1 = np.linspace(0, 52 , 52)\n",
        "x_0 = np.linspace(0, 68, 68)\n",
        "\n",
        "fig, ax = createGoalMouth((10.2,8.28))\n",
        "\n",
        "CS = ax.contour(x_0,x1, pgoal_2d, alpha=1, cmap='OrRd',levels=5)\n",
        "\n",
        "# Define a class that forces representation of float to look a certain way\n",
        "# This remove trailing zero so '1.0' becomes '1'\n",
        "class nf(float):\n",
        "    def __repr__(self):\n",
        "        str = '%.1f' % (self.__float__(),)\n",
        "        if str[-1] == '0':\n",
        "            return '%.0f' % self.__float__()\n",
        "        else:\n",
        "            return '%.1f' % self.__float__()\n",
        "\n",
        "\n",
        "# Recast levels to new class\n",
        "CS.levels = [nf(val*100) for val in CS.levels]\n",
        "\n",
        "# Label levels with specially formatted floats\n",
        "if plt.rcParams[\"text.usetex\"]:\n",
        "    fmt = r'%r\\%%'\n",
        "else:\n",
        "    fmt = '%r%%'\n",
        "ax.clabel(CS, CS.levels[0::1],inline=True, fmt=fmt, fontsize=12)\n",
        "\n",
        "ax.set_title('xG Model')\n",
        "\n",
        "ax.set_xlim(-1,69)\n",
        "ax.set_ylim(-3,52.5)\n",
        "plt.show()"
      ]
    },
    {
      "cell_type": "markdown",
      "metadata": {
        "id": "L4Y-xpM4t5lw"
      },
      "source": [
        "## Evaluating the model's predictive power\n"
      ]
    },
    {
      "cell_type": "markdown",
      "metadata": {
        "id": "1UkxahU1uUC9"
      },
      "source": [
        "### Log likelihood\n",
        "The likelihood function (often simply called the likelihood) describes the joint probability of the observed data as a function of the parameters of the chosen statistical model. In general, the closer to 1 the value is, the greater the predictive power of the model."
      ]
    },
    {
      "cell_type": "code",
      "execution_count": 111,
      "metadata": {
        "colab": {
          "base_uri": "https://localhost:8080/"
        },
        "id": "A-_LLMvrt9Lp",
        "outputId": "ba7b10cd-9fd1-42f1-a0a5-4240c78330fd"
      },
      "outputs": [
        {
          "output_type": "execute_result",
          "data": {
            "text/plain": [
              "0.49254164581590243"
            ]
          },
          "metadata": {},
          "execution_count": 111
        }
      ],
      "source": [
        "#Mcfaddens Rsquared for Logistic regression\n",
        "null_model = smf.glm(formula=\"goal ~ 1 \", data=shot_data, family=sm.families.Binomial()).fit()\n",
        "1-model.llf/null_model.llf"
      ]
    },
    {
      "cell_type": "markdown",
      "metadata": {
        "id": "_MmiDmhzu2k5"
      },
      "source": [
        "### ROC Curve\n",
        "A receiver operating characteristic curve, or ROC curve, is a graphical plot that illustrates the diagnostic ability of a binary classifier system as its discrimination threshold is varied."
      ]
    },
    {
      "cell_type": "code",
      "execution_count": 112,
      "metadata": {
        "colab": {
          "base_uri": "https://localhost:8080/",
          "height": 283
        },
        "id": "ZDU_RPpiu5VJ",
        "outputId": "16adb18b-a268-46fc-ebb9-c3b2746bc6c5"
      },
      "outputs": [
        {
          "output_type": "display_data",
          "data": {
            "text/plain": [
              "<Figure size 432x288 with 1 Axes>"
            ],
            "image/png": "[encoded data removed]"
          },
          "metadata": {
            "needs_background": "light"
          }
        }
      ],
      "source": [
        "#ROC curve\n",
        "numobs=100\n",
        "TP=np.zeros(numobs)\n",
        "FP=np.zeros(numobs)\n",
        "TN=np.zeros(numobs)\n",
        "FN=np.zeros(numobs)\n",
        "\n",
        "\n",
        "for i,threshold in enumerate(np.arange(0,1,1/numobs)):\n",
        "    for j,shot in shot_data.iterrows():\n",
        "        if (shot['goal']==1): \n",
        "            if(shot['xG']>threshold):\n",
        "                TP[i] = TP[i] + 1\n",
        "            else:\n",
        "                FN[i] = FN[i] + 1\n",
        "        if (shot['goal']==0): \n",
        "            if(shot['xG']>threshold):\n",
        "                FP[i] = FP[i] + 1\n",
        "            else:\n",
        "                TN[i] = TN[i] + 1\n",
        "     \n",
        "\n",
        "fig,ax=plt.subplots(num=1)\n",
        "ax.plot(FP/(FP+TN), TP/(TP+FN), color='black')\n",
        "ax.plot([0,1], [0,1], linestyle='dotted', color='black')\n",
        "ax.set_ylabel(\"Predicted to score and did TP/(TP+FN))\")\n",
        "ax.set_xlabel(\"Predicted to score but didn't FP/(FP+TN)\")\n",
        "plt.ylim((0.00,1.00))\n",
        "plt.xlim((0.00,1.00))\n",
        "ax.spines['top'].set_visible(False)\n",
        "ax.spines['right'].set_visible(False)"
      ]
    },
    {
      "cell_type": "markdown",
      "metadata": {
        "id": "LrNVEi2gOC03"
      },
      "source": [
        "## Sources:\n",
        "* [Friends of Tracking 1](https://www.youtube.com/watch?v=bpjLyFyLlXs)\n",
        "* [Friends of Tracking 2](https://www.youtube.com/watch?v=wHOgINJ5g54)\n",
        "* [Friends of Tracking 3](https://www.youtube.com/watch?v=310_eW0hUqQ)\n",
        "* [Tifo Football](https://www.youtube.com/watch?v=zSaeaFcm1SY)\n",
        "* [Bundesliga YT channel](https://www.youtube.com/watch?v=_vGhocyvKhA)\n",
        "* [Football Made Simple](https://youtu.be/CCGtjXR4GAk)\n",
        "* [The Geometry of Shooting | by David Sumpter | Medium](https://soccermatics.medium.com/the-geometry-of-shooting-ae7a67fdf760)\n",
        "* [Friends-of-Tracking-Data-FoTD/SoccermaticsForPython: This repo is dedicated for people getting started with Python using the concepts derived from the book Soccermatics (Sumpter 2016)](https://github.com/Friends-of-Tracking-Data-FoTD/SoccermaticsForPython)\n",
        "* [eddwebster/xG_Model_Workflow: Comprehensive Guide to explaining, creating and using an xG model](https://github.com/eddwebster/xG_Model_Workflow)"
      ]
    }
  ],
  "metadata": {
    "colab": {
      "collapsed_sections": [],
      "name": "xG Model.ipynb",
      "provenance": []
    },
    "kernelspec": {
      "display_name": "Python 3",
      "name": "python3"
    },
    "language_info": {
      "codemirror_mode": {
        "name": "ipython",
        "version": 3
      },
      "file_extension": ".py",
      "mimetype": "text/x-python",
      "name": "python",
      "nbconvert_exporter": "python",
      "pygments_lexer": "ipython3",
      "version": "3.9.7"
    }
  },
  "nbformat": 4,
  "nbformat_minor": 0
}